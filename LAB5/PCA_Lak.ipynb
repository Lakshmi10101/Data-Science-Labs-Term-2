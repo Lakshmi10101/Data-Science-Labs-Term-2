{
  "cells": [
    {
      "cell_type": "code",
      "execution_count": 107,
      "metadata": {
        "id": "Fvbn4na2PFhl"
      },
      "outputs": [],
      "source": [
        "import numpy as np\n",
        "import pandas as pd\n",
        "import seaborn as sb\n",
        "import matplotlib.pyplot as plt\n",
        "\n",
        "from sklearn.preprocessing import StandardScaler"
      ]
    },
    {
      "cell_type": "markdown",
      "metadata": {
        "id": "rpc97jhmPFhm"
      },
      "source": [
        "# Exercise 1"
      ]
    },
    {
      "cell_type": "markdown",
      "metadata": {
        "id": "rBzEMO7gPFhn"
      },
      "source": [
        "### Determine PCA of a 3x2 matrix"
      ]
    },
    {
      "cell_type": "markdown",
      "metadata": {
        "id": "O5MvD1ZUPFhn"
      },
      "source": [
        "#### define a matrix"
      ]
    },
    {
      "cell_type": "code",
      "execution_count": 188,
      "metadata": {
        "id": "VewsTo-DPFhn",
        "outputId": "ddc9f129-6289-4bf5-ebd3-84a375cc1063",
        "colab": {
          "base_uri": "https://localhost:8080/",
          "height": 0
        }
      },
      "outputs": [
        {
          "output_type": "stream",
          "name": "stdout",
          "text": [
            "[[1 2]\n",
            " [3 4]\n",
            " [5 6]]\n"
          ]
        }
      ],
      "source": [
        "A = np.array([[1, 2], [3, 4], [5, 6]])\n",
        "print(A)"
      ]
    },
    {
      "cell_type": "markdown",
      "metadata": {
        "id": "vZZmHFKwPFho"
      },
      "source": [
        "#### First do it manually!"
      ]
    },
    {
      "cell_type": "markdown",
      "metadata": {
        "id": "K9nIcgiPPFho"
      },
      "source": [
        "#### 1. Subtract the mean of each variable"
      ]
    },
    {
      "cell_type": "code",
      "execution_count": 189,
      "metadata": {
        "id": "RgfcgwETPFho",
        "colab": {
          "base_uri": "https://localhost:8080/",
          "height": 0
        },
        "outputId": "0b460694-2b0b-48be-c0b2-c7c536e858ed"
      },
      "outputs": [
        {
          "output_type": "execute_result",
          "data": {
            "text/plain": [
              "array([3., 4.])"
            ]
          },
          "metadata": {},
          "execution_count": 189
        }
      ],
      "source": [
        "col_mean = np.mean(A, axis = 0)\n",
        "col_mean"
      ]
    },
    {
      "cell_type": "code",
      "source": [
        "mean_centered_A = A - col_mean\n",
        "mean_centered_A"
      ],
      "metadata": {
        "colab": {
          "base_uri": "https://localhost:8080/",
          "height": 0
        },
        "id": "aWLLZYscR7j_",
        "outputId": "a1dfaf71-17c1-4f67-9f72-dee7acd966a1"
      },
      "execution_count": 190,
      "outputs": [
        {
          "output_type": "execute_result",
          "data": {
            "text/plain": [
              "array([[-2., -2.],\n",
              "       [ 0.,  0.],\n",
              "       [ 2.,  2.]])"
            ]
          },
          "metadata": {},
          "execution_count": 190
        }
      ]
    },
    {
      "cell_type": "markdown",
      "metadata": {
        "id": "n4yGSFc2PFho"
      },
      "source": [
        "#### 2. Calculate the Covariance Matrix"
      ]
    },
    {
      "cell_type": "code",
      "execution_count": 191,
      "metadata": {
        "id": "gMAfuVh4PFho",
        "colab": {
          "base_uri": "https://localhost:8080/",
          "height": 0
        },
        "outputId": "5d26d091-6fec-46d2-c355-5d6f94bca03f"
      },
      "outputs": [
        {
          "output_type": "execute_result",
          "data": {
            "text/plain": [
              "array([[4., 4.],\n",
              "       [4., 4.]])"
            ]
          },
          "metadata": {},
          "execution_count": 191
        }
      ],
      "source": [
        "covariance_matrix = np.cov(mean_centered_A, rowvar = False)\n",
        "covariance_matrix"
      ]
    },
    {
      "cell_type": "code",
      "source": [
        "covariance_matrix.shape"
      ],
      "metadata": {
        "colab": {
          "base_uri": "https://localhost:8080/",
          "height": 0
        },
        "id": "_15KoK6OSOih",
        "outputId": "7e8bffcf-23ba-41cc-d2a3-6fea75ecb0ac"
      },
      "execution_count": 192,
      "outputs": [
        {
          "output_type": "execute_result",
          "data": {
            "text/plain": [
              "(2, 2)"
            ]
          },
          "metadata": {},
          "execution_count": 192
        }
      ]
    },
    {
      "cell_type": "markdown",
      "metadata": {
        "id": "QotBxHMDPFho"
      },
      "source": [
        "#### 3. Compute the Eigenvalues and Eigenvectors"
      ]
    },
    {
      "cell_type": "code",
      "execution_count": 193,
      "metadata": {
        "id": "yKnZQkqnPFhp"
      },
      "outputs": [],
      "source": [
        "eigenvalues, eigenvectors = np.linalg.eig(covariance_matrix)"
      ]
    },
    {
      "cell_type": "code",
      "source": [
        "len(eigenvalues)"
      ],
      "metadata": {
        "colab": {
          "base_uri": "https://localhost:8080/",
          "height": 0
        },
        "id": "jUKGfRBISQgO",
        "outputId": "a77afe60-3884-4fce-f25c-96da4b5f309f"
      },
      "execution_count": 194,
      "outputs": [
        {
          "output_type": "execute_result",
          "data": {
            "text/plain": [
              "2"
            ]
          },
          "metadata": {},
          "execution_count": 194
        }
      ]
    },
    {
      "cell_type": "code",
      "source": [
        "eigenvalues"
      ],
      "metadata": {
        "colab": {
          "base_uri": "https://localhost:8080/",
          "height": 0
        },
        "id": "Ex-qKULJSX0b",
        "outputId": "a7881752-72fc-40d7-f768-480a27a77830"
      },
      "execution_count": 195,
      "outputs": [
        {
          "output_type": "execute_result",
          "data": {
            "text/plain": [
              "array([8., 0.])"
            ]
          },
          "metadata": {},
          "execution_count": 195
        }
      ]
    },
    {
      "cell_type": "code",
      "source": [
        "eigenvectors"
      ],
      "metadata": {
        "colab": {
          "base_uri": "https://localhost:8080/",
          "height": 0
        },
        "id": "9uuOS3Y0SQjR",
        "outputId": "ca2df3d0-6a16-44f2-ee3b-2d17d9e5d13a"
      },
      "execution_count": 196,
      "outputs": [
        {
          "output_type": "execute_result",
          "data": {
            "text/plain": [
              "array([[ 0.70710678, -0.70710678],\n",
              "       [ 0.70710678,  0.70710678]])"
            ]
          },
          "metadata": {},
          "execution_count": 196
        }
      ]
    },
    {
      "cell_type": "code",
      "source": [
        "eigenvectors.shape"
      ],
      "metadata": {
        "colab": {
          "base_uri": "https://localhost:8080/",
          "height": 0
        },
        "id": "WLPf8QjlSU15",
        "outputId": "228b468e-ece2-40fd-cf2f-28d45a2e2c0f"
      },
      "execution_count": 197,
      "outputs": [
        {
          "output_type": "execute_result",
          "data": {
            "text/plain": [
              "(2, 2)"
            ]
          },
          "metadata": {},
          "execution_count": 197
        }
      ]
    },
    {
      "cell_type": "markdown",
      "metadata": {
        "id": "eCT6qH8yPFhp"
      },
      "source": [
        "#### 4. project data of the original matrix to the new basis"
      ]
    },
    {
      "cell_type": "code",
      "source": [
        "feature_vector = eigenvectors.T\n",
        "feature_vector"
      ],
      "metadata": {
        "colab": {
          "base_uri": "https://localhost:8080/",
          "height": 0
        },
        "id": "a49DoB5y53FO",
        "outputId": "51eb0629-7524-42ef-a44c-1a8ffe289922"
      },
      "execution_count": 198,
      "outputs": [
        {
          "output_type": "execute_result",
          "data": {
            "text/plain": [
              "array([[ 0.70710678,  0.70710678],\n",
              "       [-0.70710678,  0.70710678]])"
            ]
          },
          "metadata": {},
          "execution_count": 198
        }
      ]
    },
    {
      "cell_type": "code",
      "source": [
        "projected_data = np.dot(feature_vector, mean_centered_A.T).T\n",
        "projected_data"
      ],
      "metadata": {
        "colab": {
          "base_uri": "https://localhost:8080/",
          "height": 0
        },
        "id": "IE_Ck7pL53IT",
        "outputId": "a494eeb2-dca8-4603-aea5-ed4593a1bf69"
      },
      "execution_count": 201,
      "outputs": [
        {
          "output_type": "execute_result",
          "data": {
            "text/plain": [
              "array([[-2.82842712,  0.        ],\n",
              "       [ 0.        ,  0.        ],\n",
              "       [ 2.82842712,  0.        ]])"
            ]
          },
          "metadata": {},
          "execution_count": 201
        }
      ]
    },
    {
      "cell_type": "markdown",
      "metadata": {
        "id": "8V5soF-EPFhp"
      },
      "source": [
        "#### conclusion?"
      ]
    },
    {
      "cell_type": "markdown",
      "source": [
        "\n",
        "\n",
        "*   **The column containing zeros indicate that the data has been projected alon this direction**\n",
        "*   **The main variation of in the original data must be along the first vector.**\n",
        "\n"
      ],
      "metadata": {
        "id": "9di9rEFY6pYq"
      }
    },
    {
      "cell_type": "markdown",
      "metadata": {
        "id": "mJgZ_7JnPFhp"
      },
      "source": [
        "# Exercise 2"
      ]
    },
    {
      "cell_type": "markdown",
      "metadata": {
        "id": "0ilzIwc0PFhp"
      },
      "source": [
        "### Ok Let's do it again but for a larger matrix 20x5"
      ]
    },
    {
      "cell_type": "markdown",
      "metadata": {
        "id": "8dkgrfynPFhp"
      },
      "source": [
        "#### Generate a dummy dataset."
      ]
    },
    {
      "cell_type": "code",
      "execution_count": 204,
      "metadata": {
        "id": "F9SuSqMSPFhp",
        "outputId": "a457935f-52b7-42b4-976a-7148f3c9e2de",
        "colab": {
          "base_uri": "https://localhost:8080/",
          "height": 0
        }
      },
      "outputs": [
        {
          "output_type": "stream",
          "name": "stdout",
          "text": [
            "[[30 16 43 20 39]\n",
            " [13 39 40 20 10]\n",
            " [18 43 22 14 12]\n",
            " [18 44 38 28 16]\n",
            " [22 10 39 44 34]\n",
            " [30 16 22 11 33]\n",
            " [22 28 26 19 41]\n",
            " [36 33 26 10 12]\n",
            " [48 28 18 47 42]\n",
            " [25 17 48 18 13]\n",
            " [31 31 44 17 40]\n",
            " [42 16 23 35 27]\n",
            " [23 39 25 47 46]\n",
            " [33 39 18 17 25]\n",
            " [11 22 25 25 18]\n",
            " [44 45 28 41 49]\n",
            " [32 43 26 40 12]\n",
            " [42 45 45 46 35]\n",
            " [43 13 26 43 18]\n",
            " [13 24 23 11 34]]\n"
          ]
        }
      ],
      "source": [
        "X = np.random.randint(10,50,100).reshape(20,5)\n",
        "print(X)"
      ]
    },
    {
      "cell_type": "markdown",
      "metadata": {
        "id": "EJJaHPdyPFhp"
      },
      "source": [
        "#### 1. Subtract the mean of each variable"
      ]
    },
    {
      "cell_type": "markdown",
      "metadata": {
        "id": "GalA3H4XPFhq"
      },
      "source": [
        "Subtract the mean of each variable from the dataset so that the dataset should be centered on the origin. Doing this proves to be very helpful when calculating the covariance matrix."
      ]
    },
    {
      "cell_type": "code",
      "execution_count": 205,
      "metadata": {
        "id": "rsLDQqlaPFhq",
        "colab": {
          "base_uri": "https://localhost:8080/",
          "height": 0
        },
        "outputId": "7c487e1e-6760-4d34-b1e4-a38a3daee1d8"
      },
      "outputs": [
        {
          "output_type": "execute_result",
          "data": {
            "text/plain": [
              "array([28.8 , 29.55, 30.25, 27.65, 27.8 ])"
            ]
          },
          "metadata": {},
          "execution_count": 205
        }
      ],
      "source": [
        "col_mean = np.mean(X, axis = 0)\n",
        "col_mean"
      ]
    },
    {
      "cell_type": "code",
      "source": [
        "mean_centered_data = X - col_mean\n",
        "mean_centered_data"
      ],
      "metadata": {
        "colab": {
          "base_uri": "https://localhost:8080/",
          "height": 0
        },
        "id": "-djkMWxz9vuT",
        "outputId": "bc0f9412-271e-4730-cd10-bd66c1a86056"
      },
      "execution_count": 206,
      "outputs": [
        {
          "output_type": "execute_result",
          "data": {
            "text/plain": [
              "array([[  1.2 , -13.55,  12.75,  -7.65,  11.2 ],\n",
              "       [-15.8 ,   9.45,   9.75,  -7.65, -17.8 ],\n",
              "       [-10.8 ,  13.45,  -8.25, -13.65, -15.8 ],\n",
              "       [-10.8 ,  14.45,   7.75,   0.35, -11.8 ],\n",
              "       [ -6.8 , -19.55,   8.75,  16.35,   6.2 ],\n",
              "       [  1.2 , -13.55,  -8.25, -16.65,   5.2 ],\n",
              "       [ -6.8 ,  -1.55,  -4.25,  -8.65,  13.2 ],\n",
              "       [  7.2 ,   3.45,  -4.25, -17.65, -15.8 ],\n",
              "       [ 19.2 ,  -1.55, -12.25,  19.35,  14.2 ],\n",
              "       [ -3.8 , -12.55,  17.75,  -9.65, -14.8 ],\n",
              "       [  2.2 ,   1.45,  13.75, -10.65,  12.2 ],\n",
              "       [ 13.2 , -13.55,  -7.25,   7.35,  -0.8 ],\n",
              "       [ -5.8 ,   9.45,  -5.25,  19.35,  18.2 ],\n",
              "       [  4.2 ,   9.45, -12.25, -10.65,  -2.8 ],\n",
              "       [-17.8 ,  -7.55,  -5.25,  -2.65,  -9.8 ],\n",
              "       [ 15.2 ,  15.45,  -2.25,  13.35,  21.2 ],\n",
              "       [  3.2 ,  13.45,  -4.25,  12.35, -15.8 ],\n",
              "       [ 13.2 ,  15.45,  14.75,  18.35,   7.2 ],\n",
              "       [ 14.2 , -16.55,  -4.25,  15.35,  -9.8 ],\n",
              "       [-15.8 ,  -5.55,  -7.25, -16.65,   6.2 ]])"
            ]
          },
          "metadata": {},
          "execution_count": 206
        }
      ]
    },
    {
      "cell_type": "markdown",
      "metadata": {
        "id": "jGR0qoi1PFhq"
      },
      "source": [
        "#### 2. Calculate the Covariance Matrix"
      ]
    },
    {
      "cell_type": "markdown",
      "metadata": {
        "id": "gPXbE8eyPFhq"
      },
      "source": [
        "Calculate the Covariance Matrix of the mean-centered data."
      ]
    },
    {
      "cell_type": "code",
      "execution_count": 207,
      "metadata": {
        "id": "uyICw14LPFhq",
        "colab": {
          "base_uri": "https://localhost:8080/",
          "height": 0
        },
        "outputId": "39d692ea-95ad-4d70-9976-88dc27a0fd04"
      },
      "outputs": [
        {
          "output_type": "execute_result",
          "data": {
            "text/plain": [
              "array([[127.74736842,  -0.98947368, -15.73684211,  73.34736842,\n",
              "         46.58947368],\n",
              "       [ -0.98947368, 146.68157895,  -5.88157895,  14.93947368,\n",
              "        -10.72631579],\n",
              "       [-15.73684211,  -5.88157895,  94.19736842,   0.72368421,\n",
              "         -6.31578947],\n",
              "       [ 73.34736842,  14.93947368,   0.72368421, 186.55526316,\n",
              "         57.76842105],\n",
              "       [ 46.58947368, -10.72631579,  -6.31578947,  57.76842105,\n",
              "        169.01052632]])"
            ]
          },
          "metadata": {},
          "execution_count": 207
        }
      ],
      "source": [
        "covariance_matrix = np.cov(mean_centered_data, rowvar = False)\n",
        "covariance_matrix"
      ]
    },
    {
      "cell_type": "code",
      "source": [
        "covariance_matrix.shape"
      ],
      "metadata": {
        "colab": {
          "base_uri": "https://localhost:8080/",
          "height": 0
        },
        "id": "QOS4IwFqB1Ue",
        "outputId": "a547c350-d7f0-4b42-c063-72b7fe8abe7c"
      },
      "execution_count": 208,
      "outputs": [
        {
          "output_type": "execute_result",
          "data": {
            "text/plain": [
              "(5, 5)"
            ]
          },
          "metadata": {},
          "execution_count": 208
        }
      ]
    },
    {
      "cell_type": "markdown",
      "metadata": {
        "id": "vJH1glyEPFhq"
      },
      "source": [
        "Note: the matrix is symmetrical"
      ]
    },
    {
      "cell_type": "markdown",
      "metadata": {
        "id": "_8--0LPWPFhq"
      },
      "source": [
        "#### 3. Compute the Eigenvalues and Eigenvectors"
      ]
    },
    {
      "cell_type": "markdown",
      "metadata": {
        "id": "zDVw7IlrPFhq"
      },
      "source": [
        "Now, compute the Eigenvalues and Eigenvectors for the calculated Covariance matrix."
      ]
    },
    {
      "cell_type": "code",
      "execution_count": 209,
      "metadata": {
        "id": "lY5mgCRzPFhq"
      },
      "outputs": [],
      "source": [
        "eigenvalues, eigenvectors = np.linalg.eig(covariance_matrix)"
      ]
    },
    {
      "cell_type": "code",
      "source": [
        "eigenvalues"
      ],
      "metadata": {
        "colab": {
          "base_uri": "https://localhost:8080/",
          "height": 0
        },
        "id": "J_ZUlsl4EMGF",
        "outputId": "24728b9d-ba0f-4d12-ff9d-b0c6bffa2544"
      },
      "execution_count": 210,
      "outputs": [
        {
          "output_type": "execute_result",
          "data": {
            "text/plain": [
              "array([284.58791229,  68.88887528, 100.45007762, 114.80307465,\n",
              "       155.46216543])"
            ]
          },
          "metadata": {},
          "execution_count": 210
        }
      ]
    },
    {
      "cell_type": "code",
      "source": [
        "len(eigenvalues)"
      ],
      "metadata": {
        "colab": {
          "base_uri": "https://localhost:8080/",
          "height": 0
        },
        "id": "0zfunlwVFDZ0",
        "outputId": "42c773a5-1ba3-4e60-91c8-ef92e1eaf0cb"
      },
      "execution_count": 211,
      "outputs": [
        {
          "output_type": "execute_result",
          "data": {
            "text/plain": [
              "5"
            ]
          },
          "metadata": {},
          "execution_count": 211
        }
      ]
    },
    {
      "cell_type": "code",
      "source": [
        "eigenvectors"
      ],
      "metadata": {
        "colab": {
          "base_uri": "https://localhost:8080/",
          "height": 0
        },
        "id": "_85JlxMUEMJG",
        "outputId": "fd0ccc3b-30e4-4185-e176-8025fe5db140"
      },
      "execution_count": 212,
      "outputs": [
        {
          "output_type": "execute_result",
          "data": {
            "text/plain": [
              "array([[-0.48593246,  0.72889216,  0.43824214, -0.20113715,  0.00857548],\n",
              "       [-0.03126598,  0.13053432, -0.07748173,  0.41792041,  0.8951661 ],\n",
              "       [ 0.05639257,  0.48944128, -0.84450849, -0.20461209, -0.04697243],\n",
              "       [-0.68529823, -0.45964887, -0.2131231 , -0.46413987,  0.24133377],\n",
              "       [-0.53858917, -0.02910611, -0.20814504,  0.72635697, -0.37169305]])"
            ]
          },
          "metadata": {},
          "execution_count": 212
        }
      ]
    },
    {
      "cell_type": "code",
      "source": [
        "eigenvectors.shape"
      ],
      "metadata": {
        "colab": {
          "base_uri": "https://localhost:8080/",
          "height": 0
        },
        "id": "DUxHX8pxFJMx",
        "outputId": "8b5f479e-9673-4c10-a85c-cd033d80d11d"
      },
      "execution_count": 213,
      "outputs": [
        {
          "output_type": "execute_result",
          "data": {
            "text/plain": [
              "(5, 5)"
            ]
          },
          "metadata": {},
          "execution_count": 213
        }
      ]
    },
    {
      "cell_type": "markdown",
      "metadata": {
        "id": "Sz93dIrCPFhq"
      },
      "source": [
        "Note: The Eigenvectors of the Covariance matrix we get are Orthogonal to each other and each vector represents a principal axis.\n",
        "A Higher Eigenvalue corresponds to a higher variability. Hence the principal axis with the higher Eigenvalue will be an axis capturing higher variability in the data."
      ]
    },
    {
      "cell_type": "markdown",
      "metadata": {
        "id": "GvxYaEPJPFhq"
      },
      "source": [
        "#### 4. Sort Eigenvalues in descending order"
      ]
    },
    {
      "cell_type": "markdown",
      "metadata": {
        "id": "LJ0PU5vsPFhr"
      },
      "source": [
        "Sort the Eigenvalues in the descending order along with their corresponding Eigenvector."
      ]
    },
    {
      "cell_type": "code",
      "source": [
        "index_of_sorted = np.argsort(eigenvalues)[::-1]\n",
        "index_of_sorted"
      ],
      "metadata": {
        "colab": {
          "base_uri": "https://localhost:8080/",
          "height": 0
        },
        "id": "Isu4fZdgK-lP",
        "outputId": "9ca6049f-390e-41d9-c0ab-2b0b37cc221e"
      },
      "execution_count": 214,
      "outputs": [
        {
          "output_type": "execute_result",
          "data": {
            "text/plain": [
              "array([0, 4, 3, 2, 1])"
            ]
          },
          "metadata": {},
          "execution_count": 214
        }
      ]
    },
    {
      "cell_type": "code",
      "source": [
        "sorted_eigenvalues = eigenvalues[index_of_sorted]\n",
        "sorted_eigenvalues"
      ],
      "metadata": {
        "colab": {
          "base_uri": "https://localhost:8080/",
          "height": 0
        },
        "id": "MWC8HDUGLHrc",
        "outputId": "97e6460b-b406-44af-e5c9-4d4cb8ed9a89"
      },
      "execution_count": 215,
      "outputs": [
        {
          "output_type": "execute_result",
          "data": {
            "text/plain": [
              "array([284.58791229, 155.46216543, 114.80307465, 100.45007762,\n",
              "        68.88887528])"
            ]
          },
          "metadata": {},
          "execution_count": 215
        }
      ]
    },
    {
      "cell_type": "code",
      "source": [
        "principal_components = eigenvectors[index_of_sorted]\n",
        "principal_components"
      ],
      "metadata": {
        "colab": {
          "base_uri": "https://localhost:8080/",
          "height": 0
        },
        "id": "2gVCIJMDLHuX",
        "outputId": "2495232d-041f-4778-ec7f-cfda927827ca"
      },
      "execution_count": 216,
      "outputs": [
        {
          "output_type": "execute_result",
          "data": {
            "text/plain": [
              "array([[-0.48593246,  0.72889216,  0.43824214, -0.20113715,  0.00857548],\n",
              "       [-0.53858917, -0.02910611, -0.20814504,  0.72635697, -0.37169305],\n",
              "       [-0.68529823, -0.45964887, -0.2131231 , -0.46413987,  0.24133377],\n",
              "       [ 0.05639257,  0.48944128, -0.84450849, -0.20461209, -0.04697243],\n",
              "       [-0.03126598,  0.13053432, -0.07748173,  0.41792041,  0.8951661 ]])"
            ]
          },
          "metadata": {},
          "execution_count": 216
        }
      ]
    },
    {
      "cell_type": "markdown",
      "metadata": {
        "id": "euqL5yBUPFhr"
      },
      "source": [
        "Note: Each column in the Eigen vector-matrix corresponds to a principal component, so arranging them in descending order of their Eigenvalue will automatically arrange the principal component in descending order of their variability.\n",
        "Hence the first column in our rearranged Eigen vector-matrix will be a principal component that captures the highest variability."
      ]
    },
    {
      "cell_type": "markdown",
      "metadata": {
        "id": "4kR7kBhOPFhr"
      },
      "source": [
        "#### 5. Select a subset from the rearranged Eigenvalue matrix"
      ]
    },
    {
      "cell_type": "markdown",
      "metadata": {
        "id": "egBONwtTPFhr"
      },
      "source": [
        "Select a subset of n first eigenvectors from the rearranged Eigenvector matrix as per our need, n is desired dimension of your final reduced data. i.e. \"n_components=2\" means you selected the first two principal components."
      ]
    },
    {
      "cell_type": "code",
      "execution_count": 217,
      "metadata": {
        "id": "heRjEmeHPFhr",
        "colab": {
          "base_uri": "https://localhost:8080/",
          "height": 0
        },
        "outputId": "9bce915e-5813-4186-f8f5-659893511bc8"
      },
      "outputs": [
        {
          "output_type": "execute_result",
          "data": {
            "text/plain": [
              "array([[-0.48593246,  0.72889216,  0.43824214, -0.20113715,  0.00857548],\n",
              "       [-0.53858917, -0.02910611, -0.20814504,  0.72635697, -0.37169305]])"
            ]
          },
          "metadata": {},
          "execution_count": 217
        }
      ],
      "source": [
        "n_components=2\n",
        "\n",
        "top_n_principal_components = principal_components[:n_components]\n",
        "top_n_principal_components"
      ]
    },
    {
      "cell_type": "code",
      "source": [
        "feature_vector = top_n_principal_components.T\n",
        "feature_vector"
      ],
      "metadata": {
        "colab": {
          "base_uri": "https://localhost:8080/",
          "height": 0
        },
        "id": "XahdQJaFmdJ8",
        "outputId": "505b36f0-181a-4f08-a9de-ceaead7bb7d3"
      },
      "execution_count": 218,
      "outputs": [
        {
          "output_type": "execute_result",
          "data": {
            "text/plain": [
              "array([[-0.48593246, -0.53858917],\n",
              "       [ 0.72889216, -0.02910611],\n",
              "       [ 0.43824214, -0.20814504],\n",
              "       [-0.20113715,  0.72635697],\n",
              "       [ 0.00857548, -0.37169305]])"
            ]
          },
          "metadata": {},
          "execution_count": 218
        }
      ]
    },
    {
      "cell_type": "markdown",
      "metadata": {
        "id": "XR9Q_PtkPFhr"
      },
      "source": [
        "Note: The final dimensions of X_reduced will be ( 20, 2 ) and originally the data was of higher dimensions ( 20, 5 )."
      ]
    },
    {
      "cell_type": "markdown",
      "metadata": {
        "id": "AeSPeS_IPFhx"
      },
      "source": [
        "#### 6. Transform the data"
      ]
    },
    {
      "cell_type": "markdown",
      "metadata": {
        "id": "sk0EhCdrPFhx"
      },
      "source": [
        "Finally, transform the data by having a dot product between the Transpose of the Eigenvector subset and the Transpose of the mean-centered data. By transposing the outcome of the dot product, the result we get is the data reduced to lower dimensions from higher dimensions."
      ]
    },
    {
      "cell_type": "code",
      "execution_count": 219,
      "metadata": {
        "id": "WAhIBGZPPFhx",
        "colab": {
          "base_uri": "https://localhost:8080/",
          "height": 0
        },
        "outputId": "5f67ecd8-07c5-4886-c441-22cb32c98966"
      },
      "outputs": [
        {
          "output_type": "execute_result",
          "data": {
            "text/plain": [
              "array([[-0.48593246,  0.72889216,  0.43824214, -0.20113715,  0.00857548],\n",
              "       [-0.53858917, -0.02910611, -0.20814504,  0.72635697, -0.37169305]])"
            ]
          },
          "metadata": {},
          "execution_count": 219
        }
      ],
      "source": [
        "row_feature_vector_transpose = np.transpose(feature_vector)\n",
        "row_feature_vector_transpose"
      ]
    },
    {
      "cell_type": "code",
      "source": [
        "row_mean_centered_data = np.transpose(mean_centered_data)\n",
        "row_mean_centered_data"
      ],
      "metadata": {
        "colab": {
          "base_uri": "https://localhost:8080/",
          "height": 0
        },
        "id": "hyZblL0TMWCX",
        "outputId": "04a0f5cc-2940-46b8-de95-25e2de752213"
      },
      "execution_count": 220,
      "outputs": [
        {
          "output_type": "execute_result",
          "data": {
            "text/plain": [
              "array([[  1.2 , -15.8 , -10.8 , -10.8 ,  -6.8 ,   1.2 ,  -6.8 ,   7.2 ,\n",
              "         19.2 ,  -3.8 ,   2.2 ,  13.2 ,  -5.8 ,   4.2 , -17.8 ,  15.2 ,\n",
              "          3.2 ,  13.2 ,  14.2 , -15.8 ],\n",
              "       [-13.55,   9.45,  13.45,  14.45, -19.55, -13.55,  -1.55,   3.45,\n",
              "         -1.55, -12.55,   1.45, -13.55,   9.45,   9.45,  -7.55,  15.45,\n",
              "         13.45,  15.45, -16.55,  -5.55],\n",
              "       [ 12.75,   9.75,  -8.25,   7.75,   8.75,  -8.25,  -4.25,  -4.25,\n",
              "        -12.25,  17.75,  13.75,  -7.25,  -5.25, -12.25,  -5.25,  -2.25,\n",
              "         -4.25,  14.75,  -4.25,  -7.25],\n",
              "       [ -7.65,  -7.65, -13.65,   0.35,  16.35, -16.65,  -8.65, -17.65,\n",
              "         19.35,  -9.65, -10.65,   7.35,  19.35, -10.65,  -2.65,  13.35,\n",
              "         12.35,  18.35,  15.35, -16.65],\n",
              "       [ 11.2 , -17.8 , -15.8 , -11.8 ,   6.2 ,   5.2 ,  13.2 , -15.8 ,\n",
              "         14.2 , -14.8 ,  12.2 ,  -0.8 ,  18.2 ,  -2.8 ,  -9.8 ,  21.2 ,\n",
              "        -15.8 ,   7.2 ,  -9.8 ,   6.2 ]])"
            ]
          },
          "metadata": {},
          "execution_count": 220
        }
      ]
    },
    {
      "cell_type": "code",
      "source": [
        "eigen_dot = np.dot(feature_vector_transpose, row_mean_centered_data)\n",
        "eigen_dot"
      ],
      "metadata": {
        "colab": {
          "base_uri": "https://localhost:8080/",
          "height": 0
        },
        "id": "mgqTxTZpNwUN",
        "outputId": "e7ad512d-dcac-4984-ffed-757c60115326"
      },
      "execution_count": 221,
      "outputs": [
        {
          "output_type": "execute_result",
          "data": {
            "text/plain": [
              "array([[ 12.96490482, -19.18008846, -23.36997019, -17.20701989,\n",
              "         15.55924032,   5.83724346,  -3.77568923,  -5.0347186 ,\n",
              "         17.23717899,   5.42702442,   2.87986656,  17.78454148,\n",
              "         -4.21834464,  -9.11003579,  -9.2586001 ,   4.74157704,\n",
              "         -8.14273835,   5.67307626,  21.34552149, -10.15296961],\n",
              "       [-15.52040507, -13.35707662,   3.45613385,  -7.34335236,\n",
              "        -11.40924928,   0.92525087,  -2.63812307,   5.15718898,\n",
              "         21.27229899, -19.89695028, -13.67264537,  10.84960573,\n",
              "          6.19934858,  12.12264648,  -4.54971291,  12.55068131,\n",
              "         11.6078114 ,  -0.46781325,  10.600405  ,  -5.88604298]])"
            ]
          },
          "metadata": {},
          "execution_count": 221
        }
      ]
    },
    {
      "cell_type": "code",
      "source": [
        "X_reduced = eigen_dot.T\n",
        "X_reduced"
      ],
      "metadata": {
        "colab": {
          "base_uri": "https://localhost:8080/",
          "height": 0
        },
        "id": "jx32B1iqRgim",
        "outputId": "3900025b-5f45-441c-c037-260597677cee"
      },
      "execution_count": 222,
      "outputs": [
        {
          "output_type": "execute_result",
          "data": {
            "text/plain": [
              "array([[ 12.96490482, -15.52040507],\n",
              "       [-19.18008846, -13.35707662],\n",
              "       [-23.36997019,   3.45613385],\n",
              "       [-17.20701989,  -7.34335236],\n",
              "       [ 15.55924032, -11.40924928],\n",
              "       [  5.83724346,   0.92525087],\n",
              "       [ -3.77568923,  -2.63812307],\n",
              "       [ -5.0347186 ,   5.15718898],\n",
              "       [ 17.23717899,  21.27229899],\n",
              "       [  5.42702442, -19.89695028],\n",
              "       [  2.87986656, -13.67264537],\n",
              "       [ 17.78454148,  10.84960573],\n",
              "       [ -4.21834464,   6.19934858],\n",
              "       [ -9.11003579,  12.12264648],\n",
              "       [ -9.2586001 ,  -4.54971291],\n",
              "       [  4.74157704,  12.55068131],\n",
              "       [ -8.14273835,  11.6078114 ],\n",
              "       [  5.67307626,  -0.46781325],\n",
              "       [ 21.34552149,  10.600405  ],\n",
              "       [-10.15296961,  -5.88604298]])"
            ]
          },
          "metadata": {},
          "execution_count": 222
        }
      ]
    },
    {
      "cell_type": "code",
      "source": [
        "X_reduced.shape"
      ],
      "metadata": {
        "colab": {
          "base_uri": "https://localhost:8080/",
          "height": 0
        },
        "id": "SoSv4JjARsZb",
        "outputId": "7adf5a29-62b5-44c6-a634-bda680d7ef91"
      },
      "execution_count": 223,
      "outputs": [
        {
          "output_type": "execute_result",
          "data": {
            "text/plain": [
              "(20, 2)"
            ]
          },
          "metadata": {},
          "execution_count": 223
        }
      ]
    },
    {
      "cell_type": "markdown",
      "metadata": {
        "id": "2vsdwFC2PFhx"
      },
      "source": [
        "# Exercise 3"
      ]
    },
    {
      "cell_type": "markdown",
      "metadata": {
        "id": "huqi5DwHPFhx"
      },
      "source": [
        "### Now, let’s just combine everything above by making a function and try our Principal Component analysis from scratch on an example."
      ]
    },
    {
      "cell_type": "markdown",
      "metadata": {
        "id": "_3QmNdDcPFhy"
      },
      "source": [
        "#### Create a PCA function accepting data matrix and the number of components as input arguments."
      ]
    },
    {
      "cell_type": "code",
      "execution_count": 224,
      "metadata": {
        "id": "wGQHZ5mJPFhy"
      },
      "outputs": [],
      "source": [
        "def pca(X, n_components):\n",
        "  col_mean = np.mean(X, axis = 0)\n",
        "  mean_centered_data = X - col_mean\n",
        "  covariance_matrix = np.cov(mean_centered_data, rowvar = False)\n",
        "\n",
        "  eigenvalues, eigenvectors = np.linalg.eig(covariance_matrix)\n",
        "\n",
        "  index_of_sorted = np.argsort(eigenvalues)[::-1]\n",
        "  sorted_eigenvalues = eigenvalues[index_of_sorted]\n",
        "  principal_components = eigenvectors[index_of_sorted]\n",
        "\n",
        "  eigen_sum = np.sum(sorted_eigenvalues)\n",
        "  #explainability = np.empty(len(sorted_eigenvalues))\n",
        "  explainability = {}\n",
        "\n",
        "\n",
        "  #for idx, eigen_val in enumerate(sorted_eigenvalues):\n",
        "  for eigen_val in sorted_eigenvalues:\n",
        "    #explainability[idx] = np.sum(sorted_eigenvalues[:idx + 1]) / eigen_sum\n",
        "    #explainability[eigen_val] = np.sum(sorted_eigenvalues[:idx + 1]) / eigen_sum\n",
        "    explainability[eigen_val] = str((eigen_val / eigen_sum) * 100) + ' %'\n",
        "\n",
        "\n",
        "  top_n_principal_components = principal_components[:n_components]\n",
        "  feature_vector = top_n_principal_components.T\n",
        "\n",
        "  row_feature_vector = np.transpose(feature_vector)\n",
        "  row_mean_centered_data = np.transpose(mean_centered_data)\n",
        "\n",
        "  eigen_dot = np.dot(row_feature_vector, row_mean_centered_data)\n",
        "  X_reduced = eigen_dot.T\n",
        "\n",
        "  return X_reduced, explainability"
      ]
    },
    {
      "cell_type": "markdown",
      "metadata": {
        "id": "Az5ikF3FPFhy"
      },
      "source": [
        "#### Let's use the IRIS dataset to test our PCA function, and by the same way see if we can classify the dataset in the projected space"
      ]
    },
    {
      "cell_type": "code",
      "execution_count": 225,
      "metadata": {
        "id": "ydFJjwUKPFhy",
        "outputId": "f1616069-2f51-4b4a-fba7-3eac5d5adf1b",
        "colab": {
          "base_uri": "https://localhost:8080/",
          "height": 206
        }
      },
      "outputs": [
        {
          "output_type": "execute_result",
          "data": {
            "text/plain": [
              "   sepal length  sepal width  petal length  petal width       target\n",
              "0           5.1          3.5           1.4          0.2  Iris-setosa\n",
              "1           4.9          3.0           1.4          0.2  Iris-setosa\n",
              "2           4.7          3.2           1.3          0.2  Iris-setosa\n",
              "3           4.6          3.1           1.5          0.2  Iris-setosa\n",
              "4           5.0          3.6           1.4          0.2  Iris-setosa"
            ],
            "text/html": [
              "\n",
              "  <div id=\"df-a9fea032-f239-45f7-8b32-546c7ddc5e8a\" class=\"colab-df-container\">\n",
              "    <div>\n",
              "<style scoped>\n",
              "    .dataframe tbody tr th:only-of-type {\n",
              "        vertical-align: middle;\n",
              "    }\n",
              "\n",
              "    .dataframe tbody tr th {\n",
              "        vertical-align: top;\n",
              "    }\n",
              "\n",
              "    .dataframe thead th {\n",
              "        text-align: right;\n",
              "    }\n",
              "</style>\n",
              "<table border=\"1\" class=\"dataframe\">\n",
              "  <thead>\n",
              "    <tr style=\"text-align: right;\">\n",
              "      <th></th>\n",
              "      <th>sepal length</th>\n",
              "      <th>sepal width</th>\n",
              "      <th>petal length</th>\n",
              "      <th>petal width</th>\n",
              "      <th>target</th>\n",
              "    </tr>\n",
              "  </thead>\n",
              "  <tbody>\n",
              "    <tr>\n",
              "      <th>0</th>\n",
              "      <td>5.1</td>\n",
              "      <td>3.5</td>\n",
              "      <td>1.4</td>\n",
              "      <td>0.2</td>\n",
              "      <td>Iris-setosa</td>\n",
              "    </tr>\n",
              "    <tr>\n",
              "      <th>1</th>\n",
              "      <td>4.9</td>\n",
              "      <td>3.0</td>\n",
              "      <td>1.4</td>\n",
              "      <td>0.2</td>\n",
              "      <td>Iris-setosa</td>\n",
              "    </tr>\n",
              "    <tr>\n",
              "      <th>2</th>\n",
              "      <td>4.7</td>\n",
              "      <td>3.2</td>\n",
              "      <td>1.3</td>\n",
              "      <td>0.2</td>\n",
              "      <td>Iris-setosa</td>\n",
              "    </tr>\n",
              "    <tr>\n",
              "      <th>3</th>\n",
              "      <td>4.6</td>\n",
              "      <td>3.1</td>\n",
              "      <td>1.5</td>\n",
              "      <td>0.2</td>\n",
              "      <td>Iris-setosa</td>\n",
              "    </tr>\n",
              "    <tr>\n",
              "      <th>4</th>\n",
              "      <td>5.0</td>\n",
              "      <td>3.6</td>\n",
              "      <td>1.4</td>\n",
              "      <td>0.2</td>\n",
              "      <td>Iris-setosa</td>\n",
              "    </tr>\n",
              "  </tbody>\n",
              "</table>\n",
              "</div>\n",
              "    <div class=\"colab-df-buttons\">\n",
              "\n",
              "  <div class=\"colab-df-container\">\n",
              "    <button class=\"colab-df-convert\" onclick=\"convertToInteractive('df-a9fea032-f239-45f7-8b32-546c7ddc5e8a')\"\n",
              "            title=\"Convert this dataframe to an interactive table.\"\n",
              "            style=\"display:none;\">\n",
              "\n",
              "  <svg xmlns=\"http://www.w3.org/2000/svg\" height=\"24px\" viewBox=\"0 -960 960 960\">\n",
              "    <path d=\"M120-120v-720h720v720H120Zm60-500h600v-160H180v160Zm220 220h160v-160H400v160Zm0 220h160v-160H400v160ZM180-400h160v-160H180v160Zm440 0h160v-160H620v160ZM180-180h160v-160H180v160Zm440 0h160v-160H620v160Z\"/>\n",
              "  </svg>\n",
              "    </button>\n",
              "\n",
              "  <style>\n",
              "    .colab-df-container {\n",
              "      display:flex;\n",
              "      gap: 12px;\n",
              "    }\n",
              "\n",
              "    .colab-df-convert {\n",
              "      background-color: #E8F0FE;\n",
              "      border: none;\n",
              "      border-radius: 50%;\n",
              "      cursor: pointer;\n",
              "      display: none;\n",
              "      fill: #1967D2;\n",
              "      height: 32px;\n",
              "      padding: 0 0 0 0;\n",
              "      width: 32px;\n",
              "    }\n",
              "\n",
              "    .colab-df-convert:hover {\n",
              "      background-color: #E2EBFA;\n",
              "      box-shadow: 0px 1px 2px rgba(60, 64, 67, 0.3), 0px 1px 3px 1px rgba(60, 64, 67, 0.15);\n",
              "      fill: #174EA6;\n",
              "    }\n",
              "\n",
              "    .colab-df-buttons div {\n",
              "      margin-bottom: 4px;\n",
              "    }\n",
              "\n",
              "    [theme=dark] .colab-df-convert {\n",
              "      background-color: #3B4455;\n",
              "      fill: #D2E3FC;\n",
              "    }\n",
              "\n",
              "    [theme=dark] .colab-df-convert:hover {\n",
              "      background-color: #434B5C;\n",
              "      box-shadow: 0px 1px 3px 1px rgba(0, 0, 0, 0.15);\n",
              "      filter: drop-shadow(0px 1px 2px rgba(0, 0, 0, 0.3));\n",
              "      fill: #FFFFFF;\n",
              "    }\n",
              "  </style>\n",
              "\n",
              "    <script>\n",
              "      const buttonEl =\n",
              "        document.querySelector('#df-a9fea032-f239-45f7-8b32-546c7ddc5e8a button.colab-df-convert');\n",
              "      buttonEl.style.display =\n",
              "        google.colab.kernel.accessAllowed ? 'block' : 'none';\n",
              "\n",
              "      async function convertToInteractive(key) {\n",
              "        const element = document.querySelector('#df-a9fea032-f239-45f7-8b32-546c7ddc5e8a');\n",
              "        const dataTable =\n",
              "          await google.colab.kernel.invokeFunction('convertToInteractive',\n",
              "                                                    [key], {});\n",
              "        if (!dataTable) return;\n",
              "\n",
              "        const docLinkHtml = 'Like what you see? Visit the ' +\n",
              "          '<a target=\"_blank\" href=https://colab.research.google.com/notebooks/data_table.ipynb>data table notebook</a>'\n",
              "          + ' to learn more about interactive tables.';\n",
              "        element.innerHTML = '';\n",
              "        dataTable['output_type'] = 'display_data';\n",
              "        await google.colab.output.renderOutput(dataTable, element);\n",
              "        const docLink = document.createElement('div');\n",
              "        docLink.innerHTML = docLinkHtml;\n",
              "        element.appendChild(docLink);\n",
              "      }\n",
              "    </script>\n",
              "  </div>\n",
              "\n",
              "\n",
              "<div id=\"df-30e21e66-3c6d-4424-bb17-8244d6ef09ca\">\n",
              "  <button class=\"colab-df-quickchart\" onclick=\"quickchart('df-30e21e66-3c6d-4424-bb17-8244d6ef09ca')\"\n",
              "            title=\"Suggest charts.\"\n",
              "            style=\"display:none;\">\n",
              "\n",
              "<svg xmlns=\"http://www.w3.org/2000/svg\" height=\"24px\"viewBox=\"0 0 24 24\"\n",
              "     width=\"24px\">\n",
              "    <g>\n",
              "        <path d=\"M19 3H5c-1.1 0-2 .9-2 2v14c0 1.1.9 2 2 2h14c1.1 0 2-.9 2-2V5c0-1.1-.9-2-2-2zM9 17H7v-7h2v7zm4 0h-2V7h2v10zm4 0h-2v-4h2v4z\"/>\n",
              "    </g>\n",
              "</svg>\n",
              "  </button>\n",
              "\n",
              "<style>\n",
              "  .colab-df-quickchart {\n",
              "      --bg-color: #E8F0FE;\n",
              "      --fill-color: #1967D2;\n",
              "      --hover-bg-color: #E2EBFA;\n",
              "      --hover-fill-color: #174EA6;\n",
              "      --disabled-fill-color: #AAA;\n",
              "      --disabled-bg-color: #DDD;\n",
              "  }\n",
              "\n",
              "  [theme=dark] .colab-df-quickchart {\n",
              "      --bg-color: #3B4455;\n",
              "      --fill-color: #D2E3FC;\n",
              "      --hover-bg-color: #434B5C;\n",
              "      --hover-fill-color: #FFFFFF;\n",
              "      --disabled-bg-color: #3B4455;\n",
              "      --disabled-fill-color: #666;\n",
              "  }\n",
              "\n",
              "  .colab-df-quickchart {\n",
              "    background-color: var(--bg-color);\n",
              "    border: none;\n",
              "    border-radius: 50%;\n",
              "    cursor: pointer;\n",
              "    display: none;\n",
              "    fill: var(--fill-color);\n",
              "    height: 32px;\n",
              "    padding: 0;\n",
              "    width: 32px;\n",
              "  }\n",
              "\n",
              "  .colab-df-quickchart:hover {\n",
              "    background-color: var(--hover-bg-color);\n",
              "    box-shadow: 0 1px 2px rgba(60, 64, 67, 0.3), 0 1px 3px 1px rgba(60, 64, 67, 0.15);\n",
              "    fill: var(--button-hover-fill-color);\n",
              "  }\n",
              "\n",
              "  .colab-df-quickchart-complete:disabled,\n",
              "  .colab-df-quickchart-complete:disabled:hover {\n",
              "    background-color: var(--disabled-bg-color);\n",
              "    fill: var(--disabled-fill-color);\n",
              "    box-shadow: none;\n",
              "  }\n",
              "\n",
              "  .colab-df-spinner {\n",
              "    border: 2px solid var(--fill-color);\n",
              "    border-color: transparent;\n",
              "    border-bottom-color: var(--fill-color);\n",
              "    animation:\n",
              "      spin 1s steps(1) infinite;\n",
              "  }\n",
              "\n",
              "  @keyframes spin {\n",
              "    0% {\n",
              "      border-color: transparent;\n",
              "      border-bottom-color: var(--fill-color);\n",
              "      border-left-color: var(--fill-color);\n",
              "    }\n",
              "    20% {\n",
              "      border-color: transparent;\n",
              "      border-left-color: var(--fill-color);\n",
              "      border-top-color: var(--fill-color);\n",
              "    }\n",
              "    30% {\n",
              "      border-color: transparent;\n",
              "      border-left-color: var(--fill-color);\n",
              "      border-top-color: var(--fill-color);\n",
              "      border-right-color: var(--fill-color);\n",
              "    }\n",
              "    40% {\n",
              "      border-color: transparent;\n",
              "      border-right-color: var(--fill-color);\n",
              "      border-top-color: var(--fill-color);\n",
              "    }\n",
              "    60% {\n",
              "      border-color: transparent;\n",
              "      border-right-color: var(--fill-color);\n",
              "    }\n",
              "    80% {\n",
              "      border-color: transparent;\n",
              "      border-right-color: var(--fill-color);\n",
              "      border-bottom-color: var(--fill-color);\n",
              "    }\n",
              "    90% {\n",
              "      border-color: transparent;\n",
              "      border-bottom-color: var(--fill-color);\n",
              "    }\n",
              "  }\n",
              "</style>\n",
              "\n",
              "  <script>\n",
              "    async function quickchart(key) {\n",
              "      const quickchartButtonEl =\n",
              "        document.querySelector('#' + key + ' button');\n",
              "      quickchartButtonEl.disabled = true;  // To prevent multiple clicks.\n",
              "      quickchartButtonEl.classList.add('colab-df-spinner');\n",
              "      try {\n",
              "        const charts = await google.colab.kernel.invokeFunction(\n",
              "            'suggestCharts', [key], {});\n",
              "      } catch (error) {\n",
              "        console.error('Error during call to suggestCharts:', error);\n",
              "      }\n",
              "      quickchartButtonEl.classList.remove('colab-df-spinner');\n",
              "      quickchartButtonEl.classList.add('colab-df-quickchart-complete');\n",
              "    }\n",
              "    (() => {\n",
              "      let quickchartButtonEl =\n",
              "        document.querySelector('#df-30e21e66-3c6d-4424-bb17-8244d6ef09ca button');\n",
              "      quickchartButtonEl.style.display =\n",
              "        google.colab.kernel.accessAllowed ? 'block' : 'none';\n",
              "    })();\n",
              "  </script>\n",
              "</div>\n",
              "    </div>\n",
              "  </div>\n"
            ]
          },
          "metadata": {},
          "execution_count": 225
        }
      ],
      "source": [
        "#Get the IRIS dataset\n",
        "url = \"https://archive.ics.uci.edu/ml/machine-learning-databases/iris/iris.data\"\n",
        "data = pd.read_csv(url, names=['sepal length','sepal width','petal length','petal width','target'])\n",
        "data.head()"
      ]
    },
    {
      "cell_type": "markdown",
      "metadata": {
        "id": "BLi8EMXGPFhy"
      },
      "source": [
        "#### 1. prepare the dataset & target set for classification"
      ]
    },
    {
      "cell_type": "code",
      "execution_count": 226,
      "metadata": {
        "id": "KYePXZhBPFhy",
        "colab": {
          "base_uri": "https://localhost:8080/",
          "height": 0
        },
        "outputId": "ef424ba6-4915-421f-f175-628cfece1ec8"
      },
      "outputs": [
        {
          "output_type": "execute_result",
          "data": {
            "text/plain": [
              "0    Iris-setosa\n",
              "1    Iris-setosa\n",
              "2    Iris-setosa\n",
              "3    Iris-setosa\n",
              "4    Iris-setosa\n",
              "Name: target, dtype: object"
            ]
          },
          "metadata": {},
          "execution_count": 226
        }
      ],
      "source": [
        "Y = data['target']\n",
        "Y.head()"
      ]
    },
    {
      "cell_type": "code",
      "source": [
        "len(Y)"
      ],
      "metadata": {
        "colab": {
          "base_uri": "https://localhost:8080/",
          "height": 0
        },
        "id": "QM7iWDI8tk39",
        "outputId": "8b170950-4e9a-4273-c5e8-fc9ccf9a5f0f"
      },
      "execution_count": 227,
      "outputs": [
        {
          "output_type": "execute_result",
          "data": {
            "text/plain": [
              "150"
            ]
          },
          "metadata": {},
          "execution_count": 227
        }
      ]
    },
    {
      "cell_type": "code",
      "source": [
        "X_var = data.iloc[:, :-1]\n",
        "X_var.head()"
      ],
      "metadata": {
        "colab": {
          "base_uri": "https://localhost:8080/",
          "height": 206
        },
        "id": "NDLFztBapOIu",
        "outputId": "2a23b97f-4ce6-454b-b30f-8b8a948b9695"
      },
      "execution_count": 228,
      "outputs": [
        {
          "output_type": "execute_result",
          "data": {
            "text/plain": [
              "   sepal length  sepal width  petal length  petal width\n",
              "0           5.1          3.5           1.4          0.2\n",
              "1           4.9          3.0           1.4          0.2\n",
              "2           4.7          3.2           1.3          0.2\n",
              "3           4.6          3.1           1.5          0.2\n",
              "4           5.0          3.6           1.4          0.2"
            ],
            "text/html": [
              "\n",
              "  <div id=\"df-88e9eeeb-3dce-4f72-b6f3-79a18c0fa6c8\" class=\"colab-df-container\">\n",
              "    <div>\n",
              "<style scoped>\n",
              "    .dataframe tbody tr th:only-of-type {\n",
              "        vertical-align: middle;\n",
              "    }\n",
              "\n",
              "    .dataframe tbody tr th {\n",
              "        vertical-align: top;\n",
              "    }\n",
              "\n",
              "    .dataframe thead th {\n",
              "        text-align: right;\n",
              "    }\n",
              "</style>\n",
              "<table border=\"1\" class=\"dataframe\">\n",
              "  <thead>\n",
              "    <tr style=\"text-align: right;\">\n",
              "      <th></th>\n",
              "      <th>sepal length</th>\n",
              "      <th>sepal width</th>\n",
              "      <th>petal length</th>\n",
              "      <th>petal width</th>\n",
              "    </tr>\n",
              "  </thead>\n",
              "  <tbody>\n",
              "    <tr>\n",
              "      <th>0</th>\n",
              "      <td>5.1</td>\n",
              "      <td>3.5</td>\n",
              "      <td>1.4</td>\n",
              "      <td>0.2</td>\n",
              "    </tr>\n",
              "    <tr>\n",
              "      <th>1</th>\n",
              "      <td>4.9</td>\n",
              "      <td>3.0</td>\n",
              "      <td>1.4</td>\n",
              "      <td>0.2</td>\n",
              "    </tr>\n",
              "    <tr>\n",
              "      <th>2</th>\n",
              "      <td>4.7</td>\n",
              "      <td>3.2</td>\n",
              "      <td>1.3</td>\n",
              "      <td>0.2</td>\n",
              "    </tr>\n",
              "    <tr>\n",
              "      <th>3</th>\n",
              "      <td>4.6</td>\n",
              "      <td>3.1</td>\n",
              "      <td>1.5</td>\n",
              "      <td>0.2</td>\n",
              "    </tr>\n",
              "    <tr>\n",
              "      <th>4</th>\n",
              "      <td>5.0</td>\n",
              "      <td>3.6</td>\n",
              "      <td>1.4</td>\n",
              "      <td>0.2</td>\n",
              "    </tr>\n",
              "  </tbody>\n",
              "</table>\n",
              "</div>\n",
              "    <div class=\"colab-df-buttons\">\n",
              "\n",
              "  <div class=\"colab-df-container\">\n",
              "    <button class=\"colab-df-convert\" onclick=\"convertToInteractive('df-88e9eeeb-3dce-4f72-b6f3-79a18c0fa6c8')\"\n",
              "            title=\"Convert this dataframe to an interactive table.\"\n",
              "            style=\"display:none;\">\n",
              "\n",
              "  <svg xmlns=\"http://www.w3.org/2000/svg\" height=\"24px\" viewBox=\"0 -960 960 960\">\n",
              "    <path d=\"M120-120v-720h720v720H120Zm60-500h600v-160H180v160Zm220 220h160v-160H400v160Zm0 220h160v-160H400v160ZM180-400h160v-160H180v160Zm440 0h160v-160H620v160ZM180-180h160v-160H180v160Zm440 0h160v-160H620v160Z\"/>\n",
              "  </svg>\n",
              "    </button>\n",
              "\n",
              "  <style>\n",
              "    .colab-df-container {\n",
              "      display:flex;\n",
              "      gap: 12px;\n",
              "    }\n",
              "\n",
              "    .colab-df-convert {\n",
              "      background-color: #E8F0FE;\n",
              "      border: none;\n",
              "      border-radius: 50%;\n",
              "      cursor: pointer;\n",
              "      display: none;\n",
              "      fill: #1967D2;\n",
              "      height: 32px;\n",
              "      padding: 0 0 0 0;\n",
              "      width: 32px;\n",
              "    }\n",
              "\n",
              "    .colab-df-convert:hover {\n",
              "      background-color: #E2EBFA;\n",
              "      box-shadow: 0px 1px 2px rgba(60, 64, 67, 0.3), 0px 1px 3px 1px rgba(60, 64, 67, 0.15);\n",
              "      fill: #174EA6;\n",
              "    }\n",
              "\n",
              "    .colab-df-buttons div {\n",
              "      margin-bottom: 4px;\n",
              "    }\n",
              "\n",
              "    [theme=dark] .colab-df-convert {\n",
              "      background-color: #3B4455;\n",
              "      fill: #D2E3FC;\n",
              "    }\n",
              "\n",
              "    [theme=dark] .colab-df-convert:hover {\n",
              "      background-color: #434B5C;\n",
              "      box-shadow: 0px 1px 3px 1px rgba(0, 0, 0, 0.15);\n",
              "      filter: drop-shadow(0px 1px 2px rgba(0, 0, 0, 0.3));\n",
              "      fill: #FFFFFF;\n",
              "    }\n",
              "  </style>\n",
              "\n",
              "    <script>\n",
              "      const buttonEl =\n",
              "        document.querySelector('#df-88e9eeeb-3dce-4f72-b6f3-79a18c0fa6c8 button.colab-df-convert');\n",
              "      buttonEl.style.display =\n",
              "        google.colab.kernel.accessAllowed ? 'block' : 'none';\n",
              "\n",
              "      async function convertToInteractive(key) {\n",
              "        const element = document.querySelector('#df-88e9eeeb-3dce-4f72-b6f3-79a18c0fa6c8');\n",
              "        const dataTable =\n",
              "          await google.colab.kernel.invokeFunction('convertToInteractive',\n",
              "                                                    [key], {});\n",
              "        if (!dataTable) return;\n",
              "\n",
              "        const docLinkHtml = 'Like what you see? Visit the ' +\n",
              "          '<a target=\"_blank\" href=https://colab.research.google.com/notebooks/data_table.ipynb>data table notebook</a>'\n",
              "          + ' to learn more about interactive tables.';\n",
              "        element.innerHTML = '';\n",
              "        dataTable['output_type'] = 'display_data';\n",
              "        await google.colab.output.renderOutput(dataTable, element);\n",
              "        const docLink = document.createElement('div');\n",
              "        docLink.innerHTML = docLinkHtml;\n",
              "        element.appendChild(docLink);\n",
              "      }\n",
              "    </script>\n",
              "  </div>\n",
              "\n",
              "\n",
              "<div id=\"df-85b33057-5b9d-4b85-849b-dc8d84a2d1e7\">\n",
              "  <button class=\"colab-df-quickchart\" onclick=\"quickchart('df-85b33057-5b9d-4b85-849b-dc8d84a2d1e7')\"\n",
              "            title=\"Suggest charts.\"\n",
              "            style=\"display:none;\">\n",
              "\n",
              "<svg xmlns=\"http://www.w3.org/2000/svg\" height=\"24px\"viewBox=\"0 0 24 24\"\n",
              "     width=\"24px\">\n",
              "    <g>\n",
              "        <path d=\"M19 3H5c-1.1 0-2 .9-2 2v14c0 1.1.9 2 2 2h14c1.1 0 2-.9 2-2V5c0-1.1-.9-2-2-2zM9 17H7v-7h2v7zm4 0h-2V7h2v10zm4 0h-2v-4h2v4z\"/>\n",
              "    </g>\n",
              "</svg>\n",
              "  </button>\n",
              "\n",
              "<style>\n",
              "  .colab-df-quickchart {\n",
              "      --bg-color: #E8F0FE;\n",
              "      --fill-color: #1967D2;\n",
              "      --hover-bg-color: #E2EBFA;\n",
              "      --hover-fill-color: #174EA6;\n",
              "      --disabled-fill-color: #AAA;\n",
              "      --disabled-bg-color: #DDD;\n",
              "  }\n",
              "\n",
              "  [theme=dark] .colab-df-quickchart {\n",
              "      --bg-color: #3B4455;\n",
              "      --fill-color: #D2E3FC;\n",
              "      --hover-bg-color: #434B5C;\n",
              "      --hover-fill-color: #FFFFFF;\n",
              "      --disabled-bg-color: #3B4455;\n",
              "      --disabled-fill-color: #666;\n",
              "  }\n",
              "\n",
              "  .colab-df-quickchart {\n",
              "    background-color: var(--bg-color);\n",
              "    border: none;\n",
              "    border-radius: 50%;\n",
              "    cursor: pointer;\n",
              "    display: none;\n",
              "    fill: var(--fill-color);\n",
              "    height: 32px;\n",
              "    padding: 0;\n",
              "    width: 32px;\n",
              "  }\n",
              "\n",
              "  .colab-df-quickchart:hover {\n",
              "    background-color: var(--hover-bg-color);\n",
              "    box-shadow: 0 1px 2px rgba(60, 64, 67, 0.3), 0 1px 3px 1px rgba(60, 64, 67, 0.15);\n",
              "    fill: var(--button-hover-fill-color);\n",
              "  }\n",
              "\n",
              "  .colab-df-quickchart-complete:disabled,\n",
              "  .colab-df-quickchart-complete:disabled:hover {\n",
              "    background-color: var(--disabled-bg-color);\n",
              "    fill: var(--disabled-fill-color);\n",
              "    box-shadow: none;\n",
              "  }\n",
              "\n",
              "  .colab-df-spinner {\n",
              "    border: 2px solid var(--fill-color);\n",
              "    border-color: transparent;\n",
              "    border-bottom-color: var(--fill-color);\n",
              "    animation:\n",
              "      spin 1s steps(1) infinite;\n",
              "  }\n",
              "\n",
              "  @keyframes spin {\n",
              "    0% {\n",
              "      border-color: transparent;\n",
              "      border-bottom-color: var(--fill-color);\n",
              "      border-left-color: var(--fill-color);\n",
              "    }\n",
              "    20% {\n",
              "      border-color: transparent;\n",
              "      border-left-color: var(--fill-color);\n",
              "      border-top-color: var(--fill-color);\n",
              "    }\n",
              "    30% {\n",
              "      border-color: transparent;\n",
              "      border-left-color: var(--fill-color);\n",
              "      border-top-color: var(--fill-color);\n",
              "      border-right-color: var(--fill-color);\n",
              "    }\n",
              "    40% {\n",
              "      border-color: transparent;\n",
              "      border-right-color: var(--fill-color);\n",
              "      border-top-color: var(--fill-color);\n",
              "    }\n",
              "    60% {\n",
              "      border-color: transparent;\n",
              "      border-right-color: var(--fill-color);\n",
              "    }\n",
              "    80% {\n",
              "      border-color: transparent;\n",
              "      border-right-color: var(--fill-color);\n",
              "      border-bottom-color: var(--fill-color);\n",
              "    }\n",
              "    90% {\n",
              "      border-color: transparent;\n",
              "      border-bottom-color: var(--fill-color);\n",
              "    }\n",
              "  }\n",
              "</style>\n",
              "\n",
              "  <script>\n",
              "    async function quickchart(key) {\n",
              "      const quickchartButtonEl =\n",
              "        document.querySelector('#' + key + ' button');\n",
              "      quickchartButtonEl.disabled = true;  // To prevent multiple clicks.\n",
              "      quickchartButtonEl.classList.add('colab-df-spinner');\n",
              "      try {\n",
              "        const charts = await google.colab.kernel.invokeFunction(\n",
              "            'suggestCharts', [key], {});\n",
              "      } catch (error) {\n",
              "        console.error('Error during call to suggestCharts:', error);\n",
              "      }\n",
              "      quickchartButtonEl.classList.remove('colab-df-spinner');\n",
              "      quickchartButtonEl.classList.add('colab-df-quickchart-complete');\n",
              "    }\n",
              "    (() => {\n",
              "      let quickchartButtonEl =\n",
              "        document.querySelector('#df-85b33057-5b9d-4b85-849b-dc8d84a2d1e7 button');\n",
              "      quickchartButtonEl.style.display =\n",
              "        google.colab.kernel.accessAllowed ? 'block' : 'none';\n",
              "    })();\n",
              "  </script>\n",
              "</div>\n",
              "    </div>\n",
              "  </div>\n"
            ]
          },
          "metadata": {},
          "execution_count": 228
        }
      ]
    },
    {
      "cell_type": "code",
      "source": [
        "X_var.shape"
      ],
      "metadata": {
        "colab": {
          "base_uri": "https://localhost:8080/",
          "height": 0
        },
        "id": "EG5rEZE0tozg",
        "outputId": "cf41a732-4276-42b1-8657-f328c35cf7d1"
      },
      "execution_count": 229,
      "outputs": [
        {
          "output_type": "execute_result",
          "data": {
            "text/plain": [
              "(150, 4)"
            ]
          },
          "metadata": {},
          "execution_count": 229
        }
      ]
    },
    {
      "cell_type": "code",
      "source": [
        "scaler = StandardScaler().set_output(transform=\"pandas\")\n",
        "X_new = scaler.fit_transform(X_var)\n",
        "X_new.head()"
      ],
      "metadata": {
        "colab": {
          "base_uri": "https://localhost:8080/",
          "height": 206
        },
        "id": "zC5T2YMWpOLx",
        "outputId": "e907be96-255f-4632-d14b-2eb33d36d094"
      },
      "execution_count": 230,
      "outputs": [
        {
          "output_type": "execute_result",
          "data": {
            "text/plain": [
              "   sepal length  sepal width  petal length  petal width\n",
              "0     -0.900681     1.032057     -1.341272    -1.312977\n",
              "1     -1.143017    -0.124958     -1.341272    -1.312977\n",
              "2     -1.385353     0.337848     -1.398138    -1.312977\n",
              "3     -1.506521     0.106445     -1.284407    -1.312977\n",
              "4     -1.021849     1.263460     -1.341272    -1.312977"
            ],
            "text/html": [
              "\n",
              "  <div id=\"df-312229d4-8fd1-48d3-affe-d080c8f152e7\" class=\"colab-df-container\">\n",
              "    <div>\n",
              "<style scoped>\n",
              "    .dataframe tbody tr th:only-of-type {\n",
              "        vertical-align: middle;\n",
              "    }\n",
              "\n",
              "    .dataframe tbody tr th {\n",
              "        vertical-align: top;\n",
              "    }\n",
              "\n",
              "    .dataframe thead th {\n",
              "        text-align: right;\n",
              "    }\n",
              "</style>\n",
              "<table border=\"1\" class=\"dataframe\">\n",
              "  <thead>\n",
              "    <tr style=\"text-align: right;\">\n",
              "      <th></th>\n",
              "      <th>sepal length</th>\n",
              "      <th>sepal width</th>\n",
              "      <th>petal length</th>\n",
              "      <th>petal width</th>\n",
              "    </tr>\n",
              "  </thead>\n",
              "  <tbody>\n",
              "    <tr>\n",
              "      <th>0</th>\n",
              "      <td>-0.900681</td>\n",
              "      <td>1.032057</td>\n",
              "      <td>-1.341272</td>\n",
              "      <td>-1.312977</td>\n",
              "    </tr>\n",
              "    <tr>\n",
              "      <th>1</th>\n",
              "      <td>-1.143017</td>\n",
              "      <td>-0.124958</td>\n",
              "      <td>-1.341272</td>\n",
              "      <td>-1.312977</td>\n",
              "    </tr>\n",
              "    <tr>\n",
              "      <th>2</th>\n",
              "      <td>-1.385353</td>\n",
              "      <td>0.337848</td>\n",
              "      <td>-1.398138</td>\n",
              "      <td>-1.312977</td>\n",
              "    </tr>\n",
              "    <tr>\n",
              "      <th>3</th>\n",
              "      <td>-1.506521</td>\n",
              "      <td>0.106445</td>\n",
              "      <td>-1.284407</td>\n",
              "      <td>-1.312977</td>\n",
              "    </tr>\n",
              "    <tr>\n",
              "      <th>4</th>\n",
              "      <td>-1.021849</td>\n",
              "      <td>1.263460</td>\n",
              "      <td>-1.341272</td>\n",
              "      <td>-1.312977</td>\n",
              "    </tr>\n",
              "  </tbody>\n",
              "</table>\n",
              "</div>\n",
              "    <div class=\"colab-df-buttons\">\n",
              "\n",
              "  <div class=\"colab-df-container\">\n",
              "    <button class=\"colab-df-convert\" onclick=\"convertToInteractive('df-312229d4-8fd1-48d3-affe-d080c8f152e7')\"\n",
              "            title=\"Convert this dataframe to an interactive table.\"\n",
              "            style=\"display:none;\">\n",
              "\n",
              "  <svg xmlns=\"http://www.w3.org/2000/svg\" height=\"24px\" viewBox=\"0 -960 960 960\">\n",
              "    <path d=\"M120-120v-720h720v720H120Zm60-500h600v-160H180v160Zm220 220h160v-160H400v160Zm0 220h160v-160H400v160ZM180-400h160v-160H180v160Zm440 0h160v-160H620v160ZM180-180h160v-160H180v160Zm440 0h160v-160H620v160Z\"/>\n",
              "  </svg>\n",
              "    </button>\n",
              "\n",
              "  <style>\n",
              "    .colab-df-container {\n",
              "      display:flex;\n",
              "      gap: 12px;\n",
              "    }\n",
              "\n",
              "    .colab-df-convert {\n",
              "      background-color: #E8F0FE;\n",
              "      border: none;\n",
              "      border-radius: 50%;\n",
              "      cursor: pointer;\n",
              "      display: none;\n",
              "      fill: #1967D2;\n",
              "      height: 32px;\n",
              "      padding: 0 0 0 0;\n",
              "      width: 32px;\n",
              "    }\n",
              "\n",
              "    .colab-df-convert:hover {\n",
              "      background-color: #E2EBFA;\n",
              "      box-shadow: 0px 1px 2px rgba(60, 64, 67, 0.3), 0px 1px 3px 1px rgba(60, 64, 67, 0.15);\n",
              "      fill: #174EA6;\n",
              "    }\n",
              "\n",
              "    .colab-df-buttons div {\n",
              "      margin-bottom: 4px;\n",
              "    }\n",
              "\n",
              "    [theme=dark] .colab-df-convert {\n",
              "      background-color: #3B4455;\n",
              "      fill: #D2E3FC;\n",
              "    }\n",
              "\n",
              "    [theme=dark] .colab-df-convert:hover {\n",
              "      background-color: #434B5C;\n",
              "      box-shadow: 0px 1px 3px 1px rgba(0, 0, 0, 0.15);\n",
              "      filter: drop-shadow(0px 1px 2px rgba(0, 0, 0, 0.3));\n",
              "      fill: #FFFFFF;\n",
              "    }\n",
              "  </style>\n",
              "\n",
              "    <script>\n",
              "      const buttonEl =\n",
              "        document.querySelector('#df-312229d4-8fd1-48d3-affe-d080c8f152e7 button.colab-df-convert');\n",
              "      buttonEl.style.display =\n",
              "        google.colab.kernel.accessAllowed ? 'block' : 'none';\n",
              "\n",
              "      async function convertToInteractive(key) {\n",
              "        const element = document.querySelector('#df-312229d4-8fd1-48d3-affe-d080c8f152e7');\n",
              "        const dataTable =\n",
              "          await google.colab.kernel.invokeFunction('convertToInteractive',\n",
              "                                                    [key], {});\n",
              "        if (!dataTable) return;\n",
              "\n",
              "        const docLinkHtml = 'Like what you see? Visit the ' +\n",
              "          '<a target=\"_blank\" href=https://colab.research.google.com/notebooks/data_table.ipynb>data table notebook</a>'\n",
              "          + ' to learn more about interactive tables.';\n",
              "        element.innerHTML = '';\n",
              "        dataTable['output_type'] = 'display_data';\n",
              "        await google.colab.output.renderOutput(dataTable, element);\n",
              "        const docLink = document.createElement('div');\n",
              "        docLink.innerHTML = docLinkHtml;\n",
              "        element.appendChild(docLink);\n",
              "      }\n",
              "    </script>\n",
              "  </div>\n",
              "\n",
              "\n",
              "<div id=\"df-fbca904c-812b-4401-b235-c2a1f021f09e\">\n",
              "  <button class=\"colab-df-quickchart\" onclick=\"quickchart('df-fbca904c-812b-4401-b235-c2a1f021f09e')\"\n",
              "            title=\"Suggest charts.\"\n",
              "            style=\"display:none;\">\n",
              "\n",
              "<svg xmlns=\"http://www.w3.org/2000/svg\" height=\"24px\"viewBox=\"0 0 24 24\"\n",
              "     width=\"24px\">\n",
              "    <g>\n",
              "        <path d=\"M19 3H5c-1.1 0-2 .9-2 2v14c0 1.1.9 2 2 2h14c1.1 0 2-.9 2-2V5c0-1.1-.9-2-2-2zM9 17H7v-7h2v7zm4 0h-2V7h2v10zm4 0h-2v-4h2v4z\"/>\n",
              "    </g>\n",
              "</svg>\n",
              "  </button>\n",
              "\n",
              "<style>\n",
              "  .colab-df-quickchart {\n",
              "      --bg-color: #E8F0FE;\n",
              "      --fill-color: #1967D2;\n",
              "      --hover-bg-color: #E2EBFA;\n",
              "      --hover-fill-color: #174EA6;\n",
              "      --disabled-fill-color: #AAA;\n",
              "      --disabled-bg-color: #DDD;\n",
              "  }\n",
              "\n",
              "  [theme=dark] .colab-df-quickchart {\n",
              "      --bg-color: #3B4455;\n",
              "      --fill-color: #D2E3FC;\n",
              "      --hover-bg-color: #434B5C;\n",
              "      --hover-fill-color: #FFFFFF;\n",
              "      --disabled-bg-color: #3B4455;\n",
              "      --disabled-fill-color: #666;\n",
              "  }\n",
              "\n",
              "  .colab-df-quickchart {\n",
              "    background-color: var(--bg-color);\n",
              "    border: none;\n",
              "    border-radius: 50%;\n",
              "    cursor: pointer;\n",
              "    display: none;\n",
              "    fill: var(--fill-color);\n",
              "    height: 32px;\n",
              "    padding: 0;\n",
              "    width: 32px;\n",
              "  }\n",
              "\n",
              "  .colab-df-quickchart:hover {\n",
              "    background-color: var(--hover-bg-color);\n",
              "    box-shadow: 0 1px 2px rgba(60, 64, 67, 0.3), 0 1px 3px 1px rgba(60, 64, 67, 0.15);\n",
              "    fill: var(--button-hover-fill-color);\n",
              "  }\n",
              "\n",
              "  .colab-df-quickchart-complete:disabled,\n",
              "  .colab-df-quickchart-complete:disabled:hover {\n",
              "    background-color: var(--disabled-bg-color);\n",
              "    fill: var(--disabled-fill-color);\n",
              "    box-shadow: none;\n",
              "  }\n",
              "\n",
              "  .colab-df-spinner {\n",
              "    border: 2px solid var(--fill-color);\n",
              "    border-color: transparent;\n",
              "    border-bottom-color: var(--fill-color);\n",
              "    animation:\n",
              "      spin 1s steps(1) infinite;\n",
              "  }\n",
              "\n",
              "  @keyframes spin {\n",
              "    0% {\n",
              "      border-color: transparent;\n",
              "      border-bottom-color: var(--fill-color);\n",
              "      border-left-color: var(--fill-color);\n",
              "    }\n",
              "    20% {\n",
              "      border-color: transparent;\n",
              "      border-left-color: var(--fill-color);\n",
              "      border-top-color: var(--fill-color);\n",
              "    }\n",
              "    30% {\n",
              "      border-color: transparent;\n",
              "      border-left-color: var(--fill-color);\n",
              "      border-top-color: var(--fill-color);\n",
              "      border-right-color: var(--fill-color);\n",
              "    }\n",
              "    40% {\n",
              "      border-color: transparent;\n",
              "      border-right-color: var(--fill-color);\n",
              "      border-top-color: var(--fill-color);\n",
              "    }\n",
              "    60% {\n",
              "      border-color: transparent;\n",
              "      border-right-color: var(--fill-color);\n",
              "    }\n",
              "    80% {\n",
              "      border-color: transparent;\n",
              "      border-right-color: var(--fill-color);\n",
              "      border-bottom-color: var(--fill-color);\n",
              "    }\n",
              "    90% {\n",
              "      border-color: transparent;\n",
              "      border-bottom-color: var(--fill-color);\n",
              "    }\n",
              "  }\n",
              "</style>\n",
              "\n",
              "  <script>\n",
              "    async function quickchart(key) {\n",
              "      const quickchartButtonEl =\n",
              "        document.querySelector('#' + key + ' button');\n",
              "      quickchartButtonEl.disabled = true;  // To prevent multiple clicks.\n",
              "      quickchartButtonEl.classList.add('colab-df-spinner');\n",
              "      try {\n",
              "        const charts = await google.colab.kernel.invokeFunction(\n",
              "            'suggestCharts', [key], {});\n",
              "      } catch (error) {\n",
              "        console.error('Error during call to suggestCharts:', error);\n",
              "      }\n",
              "      quickchartButtonEl.classList.remove('colab-df-spinner');\n",
              "      quickchartButtonEl.classList.add('colab-df-quickchart-complete');\n",
              "    }\n",
              "    (() => {\n",
              "      let quickchartButtonEl =\n",
              "        document.querySelector('#df-fbca904c-812b-4401-b235-c2a1f021f09e button');\n",
              "      quickchartButtonEl.style.display =\n",
              "        google.colab.kernel.accessAllowed ? 'block' : 'none';\n",
              "    })();\n",
              "  </script>\n",
              "</div>\n",
              "    </div>\n",
              "  </div>\n"
            ]
          },
          "metadata": {},
          "execution_count": 230
        }
      ]
    },
    {
      "cell_type": "markdown",
      "metadata": {
        "id": "5hQ0P9moPFhy"
      },
      "source": [
        "#### 2. Apply the PCA function"
      ]
    },
    {
      "cell_type": "code",
      "execution_count": 231,
      "metadata": {
        "id": "mampUOyTPFhz",
        "colab": {
          "base_uri": "https://localhost:8080/",
          "height": 0
        },
        "outputId": "997f0199-5e94-4dce-a45e-64382c443ecc"
      },
      "outputs": [
        {
          "output_type": "execute_result",
          "data": {
            "text/plain": [
              "array([[-0.2316583 , -0.87967436,  0.31762646],\n",
              "       [ 0.07253025,  0.25502854,  0.20117481],\n",
              "       [-0.18536908, -0.12326756,  0.04254146],\n",
              "       [-0.24451042,  0.15034585, -0.00698258],\n",
              "       [-0.38110853, -1.06194072,  0.24231575],\n",
              "       [-0.44050933, -1.82346152,  0.32276436],\n",
              "       [-0.42753067, -0.52226744, -0.13496883],\n",
              "       [-0.24979851, -0.61982431,  0.26009048],\n",
              "       [-0.15778746,  0.62875583, -0.14609035],\n",
              "       [-0.08907179,  0.07093576,  0.30963548],\n",
              "       [-0.2550866 , -1.38999448,  0.52716354],\n",
              "       [-0.41738895, -0.54224064,  0.1272438 ],\n",
              "       [-0.02520974,  0.30325906,  0.23607563],\n",
              "       [-0.21867964,  0.42151973, -0.14010673],\n",
              "       [-0.13737131, -2.20145476,  0.77020078],\n",
              "       [-0.59940097, -3.01760131,  0.49362145],\n",
              "       [-0.27650482, -1.878515  ,  0.29071661],\n",
              "       [-0.19721296, -0.89599473,  0.21229633],\n",
              "       [-0.19891512, -1.6886951 ,  0.64426382],\n",
              "       [-0.49668081, -1.52476091,  0.20566408],\n",
              "       [-0.07862214, -0.71993819,  0.55783159],\n",
              "       [-0.3760799 , -1.32690476,  0.10521534],\n",
              "       [-0.47028264, -0.98935358, -0.07144924],\n",
              "       [-0.07901452, -0.45899233,  0.03543466],\n",
              "       [-0.54039234, -0.50095053,  0.15127961],\n",
              "       [ 0.05382265,  0.25064512,  0.28762799],\n",
              "       [-0.22190896, -0.63870169,  0.05744215],\n",
              "       [-0.20936477, -0.89782114,  0.3960677 ],\n",
              "       [-0.08220807, -0.69740799,  0.39293716],\n",
              "       [-0.30837246, -0.08197745,  0.06657727],\n",
              "       [-0.15892223,  0.10028892,  0.14188798],\n",
              "       [ 0.07227079, -0.78010568,  0.33114746],\n",
              "       [-0.76074355, -2.16655987,  0.47210947],\n",
              "       [-0.58156868, -2.50655059,  0.56517394],\n",
              "       [-0.08907179,  0.07093576,  0.30963548],\n",
              "       [ 0.04551602, -0.23276139,  0.24581745],\n",
              "       [ 0.06252146, -1.02107834,  0.59133176],\n",
              "       [-0.08907179,  0.07093576,  0.30963548],\n",
              "       [-0.2029419 ,  0.40081594, -0.15898368],\n",
              "       [-0.18650385, -0.65173447,  0.33051979],\n",
              "       [-0.21950649, -0.87784794,  0.13385508],\n",
              "       [ 0.49788711,  1.85182103, -0.15971474],\n",
              "       [-0.37525305, -0.02753709, -0.16874647],\n",
              "       [-0.23917386, -0.88551895, -0.1580995 ],\n",
              "       [-0.62623998, -1.4860278 ,  0.1323817 ],\n",
              "       [ 0.04368094,  0.27061832,  0.02541537],\n",
              "       [-0.57212727, -1.49467717,  0.31900615],\n",
              "       [-0.28966486, -0.07759403, -0.01987591],\n",
              "       [-0.31838126, -1.35808433,  0.45673423],\n",
              "       [-0.12264181, -0.41941117,  0.25695993],\n",
              "       [ 0.28971372, -0.58509099,  0.67085989],\n",
              "       [ 0.02639337, -0.43747718,  0.12693003],\n",
              "       [ 0.26501772, -0.32779795,  0.51600572],\n",
              "       [ 0.36825659,  1.74112676, -0.29240064],\n",
              "       [ 0.39330919,  0.4010821 ,  0.22489685],\n",
              "       [-0.14093761,  0.67524071, -0.13588931],\n",
              "       [-0.17061378, -0.60853717, -0.03768694],\n",
              "       [ 0.08600496,  1.67102869, -0.45995107],\n",
              "       [ 0.3015576 ,  0.18763618,  0.50110503],\n",
              "       [-0.09080321,  0.95006741, -0.63655622],\n",
              "       [ 0.41191965,  2.52335135, -0.35397231],\n",
              "       [ 0.00523462,  0.10913652, -0.23948955],\n",
              "       [ 0.66754943,  1.84471362,  0.38061769],\n",
              "       [-0.02147147,  0.34462995,  0.05164028],\n",
              "       [ 0.07862232,  0.36910402, -0.28330745],\n",
              "       [ 0.30898871, -0.31647412,  0.44041754],\n",
              "       [-0.30765274,  0.24615709, -0.42674167],\n",
              "       [ 0.06918112,  0.85141471,  0.22336404],\n",
              "       [ 0.76135979,  1.7681083 ,  0.03488534],\n",
              "       [ 0.23135055,  1.29974094, -0.0290858 ],\n",
              "       [-0.30974728, -0.28559741, -0.51717111],\n",
              "       [ 0.31724666,  0.47878325,  0.10576825],\n",
              "       [ 0.40218321,  1.14872207,  0.12271822],\n",
              "       [-0.00420658,  0.59144721,  0.26718194],\n",
              "       [ 0.29797167,  0.21016638,  0.33621059],\n",
              "       [ 0.33184962, -0.07038745,  0.37486963],\n",
              "       [ 0.46674557,  0.34919875,  0.55753878],\n",
              "       [ 0.25247352, -0.0686785 ,  0.17738017],\n",
              "       [ 0.03168146,  0.33269299, -0.14014303],\n",
              "       [ 0.33804881,  1.01492116,  0.1097445 ],\n",
              "       [ 0.29521259,  1.53206425, -0.10264565],\n",
              "       [ 0.30176838,  1.53462125, -0.00532746],\n",
              "       [ 0.22007405,  0.79124723, -0.0033201 ],\n",
              "       [-0.00756882,  0.82730587, -0.18763875],\n",
              "       [-0.43424205,  0.3099774 , -0.56760029],\n",
              "       [-0.36465106, -0.75450997, -0.26988013],\n",
              "       [ 0.22043066, -0.29150439,  0.35912322],\n",
              "       [ 0.71060933,  1.540899  ,  0.30308159],\n",
              "       [-0.2125389 ,  0.22374435, -0.24812915],\n",
              "       [ 0.19594544,  1.31277372, -0.30216343],\n",
              "       [-0.08865999,  1.16997106, -0.16966695],\n",
              "       [-0.06662592,  0.11669006,  0.03874695],\n",
              "       [ 0.2652285 ,  1.01918712,  0.00957323],\n",
              "       [ 0.23545519,  1.85329506, -0.38464036],\n",
              "       [ 0.00492669,  0.88003727, -0.22547304],\n",
              "       [-0.22469071,  0.22191794, -0.06435778],\n",
              "       [-0.1040898 ,  0.41977409, -0.16480651],\n",
              "       [ 0.17138236,  0.27398669,  0.19535197],\n",
              "       [ 0.28388742,  1.33542139, -0.45333979],\n",
              "       [ 0.02306691,  0.62018723, -0.16793706],\n",
              "       [-0.3936204 , -0.57649671, -0.88150293],\n",
              "       [-0.03082212,  0.84216506, -0.64448777],\n",
              "       [ 0.27442335, -0.13773028,  0.10988432],\n",
              "       [-0.12611096,  0.33939848, -0.15671418],\n",
              "       [-0.02989813,  0.0236469 , -0.42603361],\n",
              "       [ 0.30388873, -0.20093746,  0.51811443],\n",
              "       [-0.25104679,  1.50777001, -1.10600013],\n",
              "       [ 0.21982771,  0.11664053,  0.60366248],\n",
              "       [ 0.3896877 ,  1.09599067,  0.16055251],\n",
              "       [-0.12343634, -1.49245428, -0.25427138],\n",
              "       [ 0.01590795, -0.46840897, -0.2812197 ],\n",
              "       [ 0.26694356,  0.67823088, -0.20588803],\n",
              "       [ 0.24854389, -0.0970533 , -0.13345136],\n",
              "       [ 0.15364083,  1.27234451, -0.81849636],\n",
              "       [ 0.055249  ,  0.54638669, -1.17601982],\n",
              "       [-0.02605295, -0.4579332 , -0.65161552],\n",
              "       [-0.04467609,  0.04763828, -0.0287489 ],\n",
              "       [-0.32861699, -1.94881675,  0.4521744 ],\n",
              "       [ 0.65769297,  0.63250782,  0.42144487],\n",
              "       [ 0.42976484,  1.90074546, -0.06591359],\n",
              "       [ 0.12641582, -0.56243049, -0.26742122],\n",
              "       [-0.12711941,  0.64796174, -0.91158179],\n",
              "       [ 0.46404807,  0.22558916,  0.7116486 ],\n",
              "       [ 0.33320808,  0.67140792, -0.20303496],\n",
              "       [-0.15521974, -0.68014595, -0.20250098],\n",
              "       [ 0.02106971, -0.53526898,  0.49455317],\n",
              "       [ 0.22475898,  0.47537819, -0.2863576 ],\n",
              "       [-0.05184795,  0.09269868, -0.35853776],\n",
              "       [ 0.12667528,  0.47270373, -0.39739387],\n",
              "       [ 0.20649244, -0.10180194,  0.69895235],\n",
              "       [ 0.48572553,  0.25505978,  0.55761918],\n",
              "       [-0.14791497, -2.02128643,  0.77965747],\n",
              "       [ 0.16112062,  0.45638335, -0.50272401],\n",
              "       [ 0.06171424,  0.53371926,  0.12409792],\n",
              "       [-0.13201491,  1.11102983,  0.1383919 ],\n",
              "       [ 0.64107971, -0.33430521,  0.33782379],\n",
              "       [-0.3502168 , -0.82940634, -0.81310194],\n",
              "       [-0.19412633, -0.13462808, -0.1040596 ],\n",
              "       [-0.07414148,  0.11084547, -0.43697901],\n",
              "       [ 0.2666841 , -0.35690334, -0.07591538],\n",
              "       [ 0.16142854, -0.3145174 , -0.51674052],\n",
              "       [ 0.45857816, -0.43083419, -0.31061146],\n",
              "       [-0.03082212,  0.84216506, -0.64448777],\n",
              "       [-0.0188811 , -0.50299359, -0.32182666],\n",
              "       [-0.01743839, -0.74542744, -0.6238215 ],\n",
              "       [ 0.37714329, -0.139074  , -0.43857674],\n",
              "       [ 0.49896344,  1.09720396, -0.29059036],\n",
              "       [ 0.14721797, -0.02629257, -0.26344497],\n",
              "       [-0.36595454, -0.80870255, -0.794225  ],\n",
              "       [-0.26043952,  0.18404573, -0.48337251]])"
            ]
          },
          "metadata": {},
          "execution_count": 231
        }
      ],
      "source": [
        "reduced_X, explainability = pca(X_new.to_numpy(), 3)\n",
        "reduced_X"
      ]
    },
    {
      "cell_type": "code",
      "source": [
        "reduced_X.shape"
      ],
      "metadata": {
        "colab": {
          "base_uri": "https://localhost:8080/",
          "height": 0
        },
        "id": "mkDvGdO4tvEz",
        "outputId": "fa6200b2-65a6-4a59-ff6c-b915b76f5703"
      },
      "execution_count": 232,
      "outputs": [
        {
          "output_type": "execute_result",
          "data": {
            "text/plain": [
              "(150, 3)"
            ]
          },
          "metadata": {},
          "execution_count": 232
        }
      ]
    },
    {
      "cell_type": "code",
      "source": [
        "explainability"
      ],
      "metadata": {
        "colab": {
          "base_uri": "https://localhost:8080/",
          "height": 0
        },
        "id": "B7HDUvFv1HpR",
        "outputId": "5aaed28c-f86f-4b20-c2f4-22b87c40397b"
      },
      "execution_count": 233,
      "outputs": [
        {
          "output_type": "execute_result",
          "data": {
            "text/plain": [
              "{2.930353775589317: '72.77045209380135 %',\n",
              " 0.9274036215173419: '23.03052326768065 %',\n",
              " 0.14834222648163944: '3.683831957627379 %',\n",
              " 0.02074601399559593: '0.5151926808906321 %'}"
            ]
          },
          "metadata": {},
          "execution_count": 233
        }
      ]
    },
    {
      "cell_type": "markdown",
      "metadata": {
        "id": "YUy0JkJkPFhz"
      },
      "source": [
        "#### 3. Create a Pandas Dataframe of reduced Dataset with target data"
      ]
    },
    {
      "cell_type": "code",
      "execution_count": 234,
      "metadata": {
        "id": "jVYq0QYcPFhz",
        "colab": {
          "base_uri": "https://localhost:8080/",
          "height": 206
        },
        "outputId": "5fe58dd5-7977-4aa6-c9db-e8b73bd7b11a"
      },
      "outputs": [
        {
          "output_type": "execute_result",
          "data": {
            "text/plain": [
              "          0         1         2       Target\n",
              "0 -0.231658 -0.879674  0.317626  Iris-setosa\n",
              "1  0.072530  0.255029  0.201175  Iris-setosa\n",
              "2 -0.185369 -0.123268  0.042541  Iris-setosa\n",
              "3 -0.244510  0.150346 -0.006983  Iris-setosa\n",
              "4 -0.381109 -1.061941  0.242316  Iris-setosa"
            ],
            "text/html": [
              "\n",
              "  <div id=\"df-4032a3b0-facc-47e0-b462-8d6eb126d0df\" class=\"colab-df-container\">\n",
              "    <div>\n",
              "<style scoped>\n",
              "    .dataframe tbody tr th:only-of-type {\n",
              "        vertical-align: middle;\n",
              "    }\n",
              "\n",
              "    .dataframe tbody tr th {\n",
              "        vertical-align: top;\n",
              "    }\n",
              "\n",
              "    .dataframe thead th {\n",
              "        text-align: right;\n",
              "    }\n",
              "</style>\n",
              "<table border=\"1\" class=\"dataframe\">\n",
              "  <thead>\n",
              "    <tr style=\"text-align: right;\">\n",
              "      <th></th>\n",
              "      <th>0</th>\n",
              "      <th>1</th>\n",
              "      <th>2</th>\n",
              "      <th>Target</th>\n",
              "    </tr>\n",
              "  </thead>\n",
              "  <tbody>\n",
              "    <tr>\n",
              "      <th>0</th>\n",
              "      <td>-0.231658</td>\n",
              "      <td>-0.879674</td>\n",
              "      <td>0.317626</td>\n",
              "      <td>Iris-setosa</td>\n",
              "    </tr>\n",
              "    <tr>\n",
              "      <th>1</th>\n",
              "      <td>0.072530</td>\n",
              "      <td>0.255029</td>\n",
              "      <td>0.201175</td>\n",
              "      <td>Iris-setosa</td>\n",
              "    </tr>\n",
              "    <tr>\n",
              "      <th>2</th>\n",
              "      <td>-0.185369</td>\n",
              "      <td>-0.123268</td>\n",
              "      <td>0.042541</td>\n",
              "      <td>Iris-setosa</td>\n",
              "    </tr>\n",
              "    <tr>\n",
              "      <th>3</th>\n",
              "      <td>-0.244510</td>\n",
              "      <td>0.150346</td>\n",
              "      <td>-0.006983</td>\n",
              "      <td>Iris-setosa</td>\n",
              "    </tr>\n",
              "    <tr>\n",
              "      <th>4</th>\n",
              "      <td>-0.381109</td>\n",
              "      <td>-1.061941</td>\n",
              "      <td>0.242316</td>\n",
              "      <td>Iris-setosa</td>\n",
              "    </tr>\n",
              "  </tbody>\n",
              "</table>\n",
              "</div>\n",
              "    <div class=\"colab-df-buttons\">\n",
              "\n",
              "  <div class=\"colab-df-container\">\n",
              "    <button class=\"colab-df-convert\" onclick=\"convertToInteractive('df-4032a3b0-facc-47e0-b462-8d6eb126d0df')\"\n",
              "            title=\"Convert this dataframe to an interactive table.\"\n",
              "            style=\"display:none;\">\n",
              "\n",
              "  <svg xmlns=\"http://www.w3.org/2000/svg\" height=\"24px\" viewBox=\"0 -960 960 960\">\n",
              "    <path d=\"M120-120v-720h720v720H120Zm60-500h600v-160H180v160Zm220 220h160v-160H400v160Zm0 220h160v-160H400v160ZM180-400h160v-160H180v160Zm440 0h160v-160H620v160ZM180-180h160v-160H180v160Zm440 0h160v-160H620v160Z\"/>\n",
              "  </svg>\n",
              "    </button>\n",
              "\n",
              "  <style>\n",
              "    .colab-df-container {\n",
              "      display:flex;\n",
              "      gap: 12px;\n",
              "    }\n",
              "\n",
              "    .colab-df-convert {\n",
              "      background-color: #E8F0FE;\n",
              "      border: none;\n",
              "      border-radius: 50%;\n",
              "      cursor: pointer;\n",
              "      display: none;\n",
              "      fill: #1967D2;\n",
              "      height: 32px;\n",
              "      padding: 0 0 0 0;\n",
              "      width: 32px;\n",
              "    }\n",
              "\n",
              "    .colab-df-convert:hover {\n",
              "      background-color: #E2EBFA;\n",
              "      box-shadow: 0px 1px 2px rgba(60, 64, 67, 0.3), 0px 1px 3px 1px rgba(60, 64, 67, 0.15);\n",
              "      fill: #174EA6;\n",
              "    }\n",
              "\n",
              "    .colab-df-buttons div {\n",
              "      margin-bottom: 4px;\n",
              "    }\n",
              "\n",
              "    [theme=dark] .colab-df-convert {\n",
              "      background-color: #3B4455;\n",
              "      fill: #D2E3FC;\n",
              "    }\n",
              "\n",
              "    [theme=dark] .colab-df-convert:hover {\n",
              "      background-color: #434B5C;\n",
              "      box-shadow: 0px 1px 3px 1px rgba(0, 0, 0, 0.15);\n",
              "      filter: drop-shadow(0px 1px 2px rgba(0, 0, 0, 0.3));\n",
              "      fill: #FFFFFF;\n",
              "    }\n",
              "  </style>\n",
              "\n",
              "    <script>\n",
              "      const buttonEl =\n",
              "        document.querySelector('#df-4032a3b0-facc-47e0-b462-8d6eb126d0df button.colab-df-convert');\n",
              "      buttonEl.style.display =\n",
              "        google.colab.kernel.accessAllowed ? 'block' : 'none';\n",
              "\n",
              "      async function convertToInteractive(key) {\n",
              "        const element = document.querySelector('#df-4032a3b0-facc-47e0-b462-8d6eb126d0df');\n",
              "        const dataTable =\n",
              "          await google.colab.kernel.invokeFunction('convertToInteractive',\n",
              "                                                    [key], {});\n",
              "        if (!dataTable) return;\n",
              "\n",
              "        const docLinkHtml = 'Like what you see? Visit the ' +\n",
              "          '<a target=\"_blank\" href=https://colab.research.google.com/notebooks/data_table.ipynb>data table notebook</a>'\n",
              "          + ' to learn more about interactive tables.';\n",
              "        element.innerHTML = '';\n",
              "        dataTable['output_type'] = 'display_data';\n",
              "        await google.colab.output.renderOutput(dataTable, element);\n",
              "        const docLink = document.createElement('div');\n",
              "        docLink.innerHTML = docLinkHtml;\n",
              "        element.appendChild(docLink);\n",
              "      }\n",
              "    </script>\n",
              "  </div>\n",
              "\n",
              "\n",
              "<div id=\"df-348497e3-1eca-4645-a65d-ff21094f5641\">\n",
              "  <button class=\"colab-df-quickchart\" onclick=\"quickchart('df-348497e3-1eca-4645-a65d-ff21094f5641')\"\n",
              "            title=\"Suggest charts.\"\n",
              "            style=\"display:none;\">\n",
              "\n",
              "<svg xmlns=\"http://www.w3.org/2000/svg\" height=\"24px\"viewBox=\"0 0 24 24\"\n",
              "     width=\"24px\">\n",
              "    <g>\n",
              "        <path d=\"M19 3H5c-1.1 0-2 .9-2 2v14c0 1.1.9 2 2 2h14c1.1 0 2-.9 2-2V5c0-1.1-.9-2-2-2zM9 17H7v-7h2v7zm4 0h-2V7h2v10zm4 0h-2v-4h2v4z\"/>\n",
              "    </g>\n",
              "</svg>\n",
              "  </button>\n",
              "\n",
              "<style>\n",
              "  .colab-df-quickchart {\n",
              "      --bg-color: #E8F0FE;\n",
              "      --fill-color: #1967D2;\n",
              "      --hover-bg-color: #E2EBFA;\n",
              "      --hover-fill-color: #174EA6;\n",
              "      --disabled-fill-color: #AAA;\n",
              "      --disabled-bg-color: #DDD;\n",
              "  }\n",
              "\n",
              "  [theme=dark] .colab-df-quickchart {\n",
              "      --bg-color: #3B4455;\n",
              "      --fill-color: #D2E3FC;\n",
              "      --hover-bg-color: #434B5C;\n",
              "      --hover-fill-color: #FFFFFF;\n",
              "      --disabled-bg-color: #3B4455;\n",
              "      --disabled-fill-color: #666;\n",
              "  }\n",
              "\n",
              "  .colab-df-quickchart {\n",
              "    background-color: var(--bg-color);\n",
              "    border: none;\n",
              "    border-radius: 50%;\n",
              "    cursor: pointer;\n",
              "    display: none;\n",
              "    fill: var(--fill-color);\n",
              "    height: 32px;\n",
              "    padding: 0;\n",
              "    width: 32px;\n",
              "  }\n",
              "\n",
              "  .colab-df-quickchart:hover {\n",
              "    background-color: var(--hover-bg-color);\n",
              "    box-shadow: 0 1px 2px rgba(60, 64, 67, 0.3), 0 1px 3px 1px rgba(60, 64, 67, 0.15);\n",
              "    fill: var(--button-hover-fill-color);\n",
              "  }\n",
              "\n",
              "  .colab-df-quickchart-complete:disabled,\n",
              "  .colab-df-quickchart-complete:disabled:hover {\n",
              "    background-color: var(--disabled-bg-color);\n",
              "    fill: var(--disabled-fill-color);\n",
              "    box-shadow: none;\n",
              "  }\n",
              "\n",
              "  .colab-df-spinner {\n",
              "    border: 2px solid var(--fill-color);\n",
              "    border-color: transparent;\n",
              "    border-bottom-color: var(--fill-color);\n",
              "    animation:\n",
              "      spin 1s steps(1) infinite;\n",
              "  }\n",
              "\n",
              "  @keyframes spin {\n",
              "    0% {\n",
              "      border-color: transparent;\n",
              "      border-bottom-color: var(--fill-color);\n",
              "      border-left-color: var(--fill-color);\n",
              "    }\n",
              "    20% {\n",
              "      border-color: transparent;\n",
              "      border-left-color: var(--fill-color);\n",
              "      border-top-color: var(--fill-color);\n",
              "    }\n",
              "    30% {\n",
              "      border-color: transparent;\n",
              "      border-left-color: var(--fill-color);\n",
              "      border-top-color: var(--fill-color);\n",
              "      border-right-color: var(--fill-color);\n",
              "    }\n",
              "    40% {\n",
              "      border-color: transparent;\n",
              "      border-right-color: var(--fill-color);\n",
              "      border-top-color: var(--fill-color);\n",
              "    }\n",
              "    60% {\n",
              "      border-color: transparent;\n",
              "      border-right-color: var(--fill-color);\n",
              "    }\n",
              "    80% {\n",
              "      border-color: transparent;\n",
              "      border-right-color: var(--fill-color);\n",
              "      border-bottom-color: var(--fill-color);\n",
              "    }\n",
              "    90% {\n",
              "      border-color: transparent;\n",
              "      border-bottom-color: var(--fill-color);\n",
              "    }\n",
              "  }\n",
              "</style>\n",
              "\n",
              "  <script>\n",
              "    async function quickchart(key) {\n",
              "      const quickchartButtonEl =\n",
              "        document.querySelector('#' + key + ' button');\n",
              "      quickchartButtonEl.disabled = true;  // To prevent multiple clicks.\n",
              "      quickchartButtonEl.classList.add('colab-df-spinner');\n",
              "      try {\n",
              "        const charts = await google.colab.kernel.invokeFunction(\n",
              "            'suggestCharts', [key], {});\n",
              "      } catch (error) {\n",
              "        console.error('Error during call to suggestCharts:', error);\n",
              "      }\n",
              "      quickchartButtonEl.classList.remove('colab-df-spinner');\n",
              "      quickchartButtonEl.classList.add('colab-df-quickchart-complete');\n",
              "    }\n",
              "    (() => {\n",
              "      let quickchartButtonEl =\n",
              "        document.querySelector('#df-348497e3-1eca-4645-a65d-ff21094f5641 button');\n",
              "      quickchartButtonEl.style.display =\n",
              "        google.colab.kernel.accessAllowed ? 'block' : 'none';\n",
              "    })();\n",
              "  </script>\n",
              "</div>\n",
              "    </div>\n",
              "  </div>\n"
            ]
          },
          "metadata": {},
          "execution_count": 234
        }
      ],
      "source": [
        "reduced_dataset = pd.DataFrame(reduced_X)\n",
        "reduced_dataset['Target'] = Y\n",
        "reduced_dataset.head()"
      ]
    },
    {
      "cell_type": "code",
      "source": [
        "reduced_dataset.shape"
      ],
      "metadata": {
        "colab": {
          "base_uri": "https://localhost:8080/",
          "height": 0
        },
        "id": "d3jcPBfjt2Gx",
        "outputId": "51549689-01d0-4905-b5ba-f81bfbd551ed"
      },
      "execution_count": 235,
      "outputs": [
        {
          "output_type": "execute_result",
          "data": {
            "text/plain": [
              "(150, 4)"
            ]
          },
          "metadata": {},
          "execution_count": 235
        }
      ]
    },
    {
      "cell_type": "markdown",
      "metadata": {
        "id": "rgikRJGVPFhz"
      },
      "source": [
        "#### 4. Vizualize the data with one and two principal components"
      ]
    },
    {
      "cell_type": "code",
      "source": [
        "def plot_iris_pca(df, n_components):\n",
        "\n",
        "  # Settin different colours for various categories in the Target column\n",
        "  target_colors = {\n",
        "      'Iris-setosa': 'red',\n",
        "      'Iris-versicolor': 'green',\n",
        "      'Iris-virginica': 'blue'}\n",
        "\n",
        "  # Scatter plot\n",
        "  plt.figure(figsize=(10, 8))\n",
        "\n",
        "  for target, color in target_colors.items():\n",
        "    subset = df[df['Target'] == target]\n",
        "    if n_components == 1:\n",
        "      plt.scatter(subset[[0]], subset[[0]]*0, label=target, c=color)\n",
        "    if n_components == 2:\n",
        "      plt.scatter(subset[[0]], subset[[1]], label=target, c=color)\n",
        "\n",
        "  # Axis labels and legend\n",
        "  if n_components == 1:\n",
        "    plt.xlabel('Component 0')\n",
        "    plt.ylabel('Component 0')\n",
        "\n",
        "  if n_components == 2:\n",
        "    plt.xlabel('Component 0')\n",
        "    plt.ylabel('Component 1')\n",
        "\n",
        "  plt.legend()\n",
        "\n",
        "  # Show the plot\n",
        "  plt.show()\n"
      ],
      "metadata": {
        "id": "OyfNkkNxvhoM"
      },
      "execution_count": 243,
      "outputs": []
    },
    {
      "cell_type": "markdown",
      "source": [
        "**For PCA with 1 pricipal component**"
      ],
      "metadata": {
        "id": "CUMLSJAQuss6"
      }
    },
    {
      "cell_type": "code",
      "execution_count": 246,
      "metadata": {
        "id": "BkjpDmMQPFhz",
        "colab": {
          "base_uri": "https://localhost:8080/",
          "height": 224
        },
        "outputId": "f64f8e1b-2543-4847-d954-cbca5a884f3b"
      },
      "outputs": [
        {
          "output_type": "stream",
          "name": "stdout",
          "text": [
            "(150, 2)\n"
          ]
        },
        {
          "output_type": "execute_result",
          "data": {
            "text/plain": [
              "          0       Target\n",
              "0 -0.231658  Iris-setosa\n",
              "1  0.072530  Iris-setosa\n",
              "2 -0.185369  Iris-setosa\n",
              "3 -0.244510  Iris-setosa\n",
              "4 -0.381109  Iris-setosa"
            ],
            "text/html": [
              "\n",
              "  <div id=\"df-449d3be5-10d6-47ab-a8f9-2f515a2b1358\" class=\"colab-df-container\">\n",
              "    <div>\n",
              "<style scoped>\n",
              "    .dataframe tbody tr th:only-of-type {\n",
              "        vertical-align: middle;\n",
              "    }\n",
              "\n",
              "    .dataframe tbody tr th {\n",
              "        vertical-align: top;\n",
              "    }\n",
              "\n",
              "    .dataframe thead th {\n",
              "        text-align: right;\n",
              "    }\n",
              "</style>\n",
              "<table border=\"1\" class=\"dataframe\">\n",
              "  <thead>\n",
              "    <tr style=\"text-align: right;\">\n",
              "      <th></th>\n",
              "      <th>0</th>\n",
              "      <th>Target</th>\n",
              "    </tr>\n",
              "  </thead>\n",
              "  <tbody>\n",
              "    <tr>\n",
              "      <th>0</th>\n",
              "      <td>-0.231658</td>\n",
              "      <td>Iris-setosa</td>\n",
              "    </tr>\n",
              "    <tr>\n",
              "      <th>1</th>\n",
              "      <td>0.072530</td>\n",
              "      <td>Iris-setosa</td>\n",
              "    </tr>\n",
              "    <tr>\n",
              "      <th>2</th>\n",
              "      <td>-0.185369</td>\n",
              "      <td>Iris-setosa</td>\n",
              "    </tr>\n",
              "    <tr>\n",
              "      <th>3</th>\n",
              "      <td>-0.244510</td>\n",
              "      <td>Iris-setosa</td>\n",
              "    </tr>\n",
              "    <tr>\n",
              "      <th>4</th>\n",
              "      <td>-0.381109</td>\n",
              "      <td>Iris-setosa</td>\n",
              "    </tr>\n",
              "  </tbody>\n",
              "</table>\n",
              "</div>\n",
              "    <div class=\"colab-df-buttons\">\n",
              "\n",
              "  <div class=\"colab-df-container\">\n",
              "    <button class=\"colab-df-convert\" onclick=\"convertToInteractive('df-449d3be5-10d6-47ab-a8f9-2f515a2b1358')\"\n",
              "            title=\"Convert this dataframe to an interactive table.\"\n",
              "            style=\"display:none;\">\n",
              "\n",
              "  <svg xmlns=\"http://www.w3.org/2000/svg\" height=\"24px\" viewBox=\"0 -960 960 960\">\n",
              "    <path d=\"M120-120v-720h720v720H120Zm60-500h600v-160H180v160Zm220 220h160v-160H400v160Zm0 220h160v-160H400v160ZM180-400h160v-160H180v160Zm440 0h160v-160H620v160ZM180-180h160v-160H180v160Zm440 0h160v-160H620v160Z\"/>\n",
              "  </svg>\n",
              "    </button>\n",
              "\n",
              "  <style>\n",
              "    .colab-df-container {\n",
              "      display:flex;\n",
              "      gap: 12px;\n",
              "    }\n",
              "\n",
              "    .colab-df-convert {\n",
              "      background-color: #E8F0FE;\n",
              "      border: none;\n",
              "      border-radius: 50%;\n",
              "      cursor: pointer;\n",
              "      display: none;\n",
              "      fill: #1967D2;\n",
              "      height: 32px;\n",
              "      padding: 0 0 0 0;\n",
              "      width: 32px;\n",
              "    }\n",
              "\n",
              "    .colab-df-convert:hover {\n",
              "      background-color: #E2EBFA;\n",
              "      box-shadow: 0px 1px 2px rgba(60, 64, 67, 0.3), 0px 1px 3px 1px rgba(60, 64, 67, 0.15);\n",
              "      fill: #174EA6;\n",
              "    }\n",
              "\n",
              "    .colab-df-buttons div {\n",
              "      margin-bottom: 4px;\n",
              "    }\n",
              "\n",
              "    [theme=dark] .colab-df-convert {\n",
              "      background-color: #3B4455;\n",
              "      fill: #D2E3FC;\n",
              "    }\n",
              "\n",
              "    [theme=dark] .colab-df-convert:hover {\n",
              "      background-color: #434B5C;\n",
              "      box-shadow: 0px 1px 3px 1px rgba(0, 0, 0, 0.15);\n",
              "      filter: drop-shadow(0px 1px 2px rgba(0, 0, 0, 0.3));\n",
              "      fill: #FFFFFF;\n",
              "    }\n",
              "  </style>\n",
              "\n",
              "    <script>\n",
              "      const buttonEl =\n",
              "        document.querySelector('#df-449d3be5-10d6-47ab-a8f9-2f515a2b1358 button.colab-df-convert');\n",
              "      buttonEl.style.display =\n",
              "        google.colab.kernel.accessAllowed ? 'block' : 'none';\n",
              "\n",
              "      async function convertToInteractive(key) {\n",
              "        const element = document.querySelector('#df-449d3be5-10d6-47ab-a8f9-2f515a2b1358');\n",
              "        const dataTable =\n",
              "          await google.colab.kernel.invokeFunction('convertToInteractive',\n",
              "                                                    [key], {});\n",
              "        if (!dataTable) return;\n",
              "\n",
              "        const docLinkHtml = 'Like what you see? Visit the ' +\n",
              "          '<a target=\"_blank\" href=https://colab.research.google.com/notebooks/data_table.ipynb>data table notebook</a>'\n",
              "          + ' to learn more about interactive tables.';\n",
              "        element.innerHTML = '';\n",
              "        dataTable['output_type'] = 'display_data';\n",
              "        await google.colab.output.renderOutput(dataTable, element);\n",
              "        const docLink = document.createElement('div');\n",
              "        docLink.innerHTML = docLinkHtml;\n",
              "        element.appendChild(docLink);\n",
              "      }\n",
              "    </script>\n",
              "  </div>\n",
              "\n",
              "\n",
              "<div id=\"df-47c4a01d-1106-4fcb-8027-8f9f1800bb6e\">\n",
              "  <button class=\"colab-df-quickchart\" onclick=\"quickchart('df-47c4a01d-1106-4fcb-8027-8f9f1800bb6e')\"\n",
              "            title=\"Suggest charts.\"\n",
              "            style=\"display:none;\">\n",
              "\n",
              "<svg xmlns=\"http://www.w3.org/2000/svg\" height=\"24px\"viewBox=\"0 0 24 24\"\n",
              "     width=\"24px\">\n",
              "    <g>\n",
              "        <path d=\"M19 3H5c-1.1 0-2 .9-2 2v14c0 1.1.9 2 2 2h14c1.1 0 2-.9 2-2V5c0-1.1-.9-2-2-2zM9 17H7v-7h2v7zm4 0h-2V7h2v10zm4 0h-2v-4h2v4z\"/>\n",
              "    </g>\n",
              "</svg>\n",
              "  </button>\n",
              "\n",
              "<style>\n",
              "  .colab-df-quickchart {\n",
              "      --bg-color: #E8F0FE;\n",
              "      --fill-color: #1967D2;\n",
              "      --hover-bg-color: #E2EBFA;\n",
              "      --hover-fill-color: #174EA6;\n",
              "      --disabled-fill-color: #AAA;\n",
              "      --disabled-bg-color: #DDD;\n",
              "  }\n",
              "\n",
              "  [theme=dark] .colab-df-quickchart {\n",
              "      --bg-color: #3B4455;\n",
              "      --fill-color: #D2E3FC;\n",
              "      --hover-bg-color: #434B5C;\n",
              "      --hover-fill-color: #FFFFFF;\n",
              "      --disabled-bg-color: #3B4455;\n",
              "      --disabled-fill-color: #666;\n",
              "  }\n",
              "\n",
              "  .colab-df-quickchart {\n",
              "    background-color: var(--bg-color);\n",
              "    border: none;\n",
              "    border-radius: 50%;\n",
              "    cursor: pointer;\n",
              "    display: none;\n",
              "    fill: var(--fill-color);\n",
              "    height: 32px;\n",
              "    padding: 0;\n",
              "    width: 32px;\n",
              "  }\n",
              "\n",
              "  .colab-df-quickchart:hover {\n",
              "    background-color: var(--hover-bg-color);\n",
              "    box-shadow: 0 1px 2px rgba(60, 64, 67, 0.3), 0 1px 3px 1px rgba(60, 64, 67, 0.15);\n",
              "    fill: var(--button-hover-fill-color);\n",
              "  }\n",
              "\n",
              "  .colab-df-quickchart-complete:disabled,\n",
              "  .colab-df-quickchart-complete:disabled:hover {\n",
              "    background-color: var(--disabled-bg-color);\n",
              "    fill: var(--disabled-fill-color);\n",
              "    box-shadow: none;\n",
              "  }\n",
              "\n",
              "  .colab-df-spinner {\n",
              "    border: 2px solid var(--fill-color);\n",
              "    border-color: transparent;\n",
              "    border-bottom-color: var(--fill-color);\n",
              "    animation:\n",
              "      spin 1s steps(1) infinite;\n",
              "  }\n",
              "\n",
              "  @keyframes spin {\n",
              "    0% {\n",
              "      border-color: transparent;\n",
              "      border-bottom-color: var(--fill-color);\n",
              "      border-left-color: var(--fill-color);\n",
              "    }\n",
              "    20% {\n",
              "      border-color: transparent;\n",
              "      border-left-color: var(--fill-color);\n",
              "      border-top-color: var(--fill-color);\n",
              "    }\n",
              "    30% {\n",
              "      border-color: transparent;\n",
              "      border-left-color: var(--fill-color);\n",
              "      border-top-color: var(--fill-color);\n",
              "      border-right-color: var(--fill-color);\n",
              "    }\n",
              "    40% {\n",
              "      border-color: transparent;\n",
              "      border-right-color: var(--fill-color);\n",
              "      border-top-color: var(--fill-color);\n",
              "    }\n",
              "    60% {\n",
              "      border-color: transparent;\n",
              "      border-right-color: var(--fill-color);\n",
              "    }\n",
              "    80% {\n",
              "      border-color: transparent;\n",
              "      border-right-color: var(--fill-color);\n",
              "      border-bottom-color: var(--fill-color);\n",
              "    }\n",
              "    90% {\n",
              "      border-color: transparent;\n",
              "      border-bottom-color: var(--fill-color);\n",
              "    }\n",
              "  }\n",
              "</style>\n",
              "\n",
              "  <script>\n",
              "    async function quickchart(key) {\n",
              "      const quickchartButtonEl =\n",
              "        document.querySelector('#' + key + ' button');\n",
              "      quickchartButtonEl.disabled = true;  // To prevent multiple clicks.\n",
              "      quickchartButtonEl.classList.add('colab-df-spinner');\n",
              "      try {\n",
              "        const charts = await google.colab.kernel.invokeFunction(\n",
              "            'suggestCharts', [key], {});\n",
              "      } catch (error) {\n",
              "        console.error('Error during call to suggestCharts:', error);\n",
              "      }\n",
              "      quickchartButtonEl.classList.remove('colab-df-spinner');\n",
              "      quickchartButtonEl.classList.add('colab-df-quickchart-complete');\n",
              "    }\n",
              "    (() => {\n",
              "      let quickchartButtonEl =\n",
              "        document.querySelector('#df-47c4a01d-1106-4fcb-8027-8f9f1800bb6e button');\n",
              "      quickchartButtonEl.style.display =\n",
              "        google.colab.kernel.accessAllowed ? 'block' : 'none';\n",
              "    })();\n",
              "  </script>\n",
              "</div>\n",
              "    </div>\n",
              "  </div>\n"
            ]
          },
          "metadata": {},
          "execution_count": 246
        }
      ],
      "source": [
        "reduced_X, explainability = pca(X_new.to_numpy(), 1)\n",
        "reduced_dataset = pd.DataFrame(reduced_X)\n",
        "reduced_dataset['Target'] = Y\n",
        "\n",
        "print(reduced_dataset.shape)\n",
        "reduced_dataset.head()"
      ]
    },
    {
      "cell_type": "code",
      "source": [
        "plot_iris_pca(reduced_dataset, 1)"
      ],
      "metadata": {
        "colab": {
          "base_uri": "https://localhost:8080/",
          "height": 696
        },
        "id": "fQCgsWK7yA7U",
        "outputId": "78f8cb7b-8d23-46ed-d77d-8165d4edeb00"
      },
      "execution_count": 247,
      "outputs": [
        {
          "output_type": "display_data",
          "data": {
            "text/plain": [
              "<Figure size 1000x800 with 1 Axes>"
            ],
            "image/png": "[encoded data removed]"
          },
          "metadata": {}
        }
      ]
    },
    {
      "cell_type": "code",
      "source": [
        "explainability"
      ],
      "metadata": {
        "colab": {
          "base_uri": "https://localhost:8080/",
          "height": 0
        },
        "id": "cksZzuwL3JPy",
        "outputId": "2db8c8f9-7009-44fe-b1c9-87d2e9ac520b"
      },
      "execution_count": 248,
      "outputs": [
        {
          "output_type": "execute_result",
          "data": {
            "text/plain": [
              "{2.930353775589317: '72.77045209380135 %',\n",
              " 0.9274036215173419: '23.03052326768065 %',\n",
              " 0.14834222648163944: '3.683831957627379 %',\n",
              " 0.02074601399559593: '0.5151926808906321 %'}"
            ]
          },
          "metadata": {},
          "execution_count": 248
        }
      ]
    },
    {
      "cell_type": "markdown",
      "source": [
        "**For PCA with 2 pricipal components**"
      ],
      "metadata": {
        "id": "iixaTIWau8zt"
      }
    },
    {
      "cell_type": "code",
      "execution_count": 249,
      "metadata": {
        "id": "iKWJW9yUPFhz",
        "colab": {
          "base_uri": "https://localhost:8080/",
          "height": 224
        },
        "outputId": "adebf029-7846-4a99-fd07-9f35bfd36859"
      },
      "outputs": [
        {
          "output_type": "stream",
          "name": "stdout",
          "text": [
            "(150, 3)\n"
          ]
        },
        {
          "output_type": "execute_result",
          "data": {
            "text/plain": [
              "          0         1       Target\n",
              "0 -0.231658 -0.879674  Iris-setosa\n",
              "1  0.072530  0.255029  Iris-setosa\n",
              "2 -0.185369 -0.123268  Iris-setosa\n",
              "3 -0.244510  0.150346  Iris-setosa\n",
              "4 -0.381109 -1.061941  Iris-setosa"
            ],
            "text/html": [
              "\n",
              "  <div id=\"df-a8ad7865-5884-4593-a2ad-baefecb56d07\" class=\"colab-df-container\">\n",
              "    <div>\n",
              "<style scoped>\n",
              "    .dataframe tbody tr th:only-of-type {\n",
              "        vertical-align: middle;\n",
              "    }\n",
              "\n",
              "    .dataframe tbody tr th {\n",
              "        vertical-align: top;\n",
              "    }\n",
              "\n",
              "    .dataframe thead th {\n",
              "        text-align: right;\n",
              "    }\n",
              "</style>\n",
              "<table border=\"1\" class=\"dataframe\">\n",
              "  <thead>\n",
              "    <tr style=\"text-align: right;\">\n",
              "      <th></th>\n",
              "      <th>0</th>\n",
              "      <th>1</th>\n",
              "      <th>Target</th>\n",
              "    </tr>\n",
              "  </thead>\n",
              "  <tbody>\n",
              "    <tr>\n",
              "      <th>0</th>\n",
              "      <td>-0.231658</td>\n",
              "      <td>-0.879674</td>\n",
              "      <td>Iris-setosa</td>\n",
              "    </tr>\n",
              "    <tr>\n",
              "      <th>1</th>\n",
              "      <td>0.072530</td>\n",
              "      <td>0.255029</td>\n",
              "      <td>Iris-setosa</td>\n",
              "    </tr>\n",
              "    <tr>\n",
              "      <th>2</th>\n",
              "      <td>-0.185369</td>\n",
              "      <td>-0.123268</td>\n",
              "      <td>Iris-setosa</td>\n",
              "    </tr>\n",
              "    <tr>\n",
              "      <th>3</th>\n",
              "      <td>-0.244510</td>\n",
              "      <td>0.150346</td>\n",
              "      <td>Iris-setosa</td>\n",
              "    </tr>\n",
              "    <tr>\n",
              "      <th>4</th>\n",
              "      <td>-0.381109</td>\n",
              "      <td>-1.061941</td>\n",
              "      <td>Iris-setosa</td>\n",
              "    </tr>\n",
              "  </tbody>\n",
              "</table>\n",
              "</div>\n",
              "    <div class=\"colab-df-buttons\">\n",
              "\n",
              "  <div class=\"colab-df-container\">\n",
              "    <button class=\"colab-df-convert\" onclick=\"convertToInteractive('df-a8ad7865-5884-4593-a2ad-baefecb56d07')\"\n",
              "            title=\"Convert this dataframe to an interactive table.\"\n",
              "            style=\"display:none;\">\n",
              "\n",
              "  <svg xmlns=\"http://www.w3.org/2000/svg\" height=\"24px\" viewBox=\"0 -960 960 960\">\n",
              "    <path d=\"M120-120v-720h720v720H120Zm60-500h600v-160H180v160Zm220 220h160v-160H400v160Zm0 220h160v-160H400v160ZM180-400h160v-160H180v160Zm440 0h160v-160H620v160ZM180-180h160v-160H180v160Zm440 0h160v-160H620v160Z\"/>\n",
              "  </svg>\n",
              "    </button>\n",
              "\n",
              "  <style>\n",
              "    .colab-df-container {\n",
              "      display:flex;\n",
              "      gap: 12px;\n",
              "    }\n",
              "\n",
              "    .colab-df-convert {\n",
              "      background-color: #E8F0FE;\n",
              "      border: none;\n",
              "      border-radius: 50%;\n",
              "      cursor: pointer;\n",
              "      display: none;\n",
              "      fill: #1967D2;\n",
              "      height: 32px;\n",
              "      padding: 0 0 0 0;\n",
              "      width: 32px;\n",
              "    }\n",
              "\n",
              "    .colab-df-convert:hover {\n",
              "      background-color: #E2EBFA;\n",
              "      box-shadow: 0px 1px 2px rgba(60, 64, 67, 0.3), 0px 1px 3px 1px rgba(60, 64, 67, 0.15);\n",
              "      fill: #174EA6;\n",
              "    }\n",
              "\n",
              "    .colab-df-buttons div {\n",
              "      margin-bottom: 4px;\n",
              "    }\n",
              "\n",
              "    [theme=dark] .colab-df-convert {\n",
              "      background-color: #3B4455;\n",
              "      fill: #D2E3FC;\n",
              "    }\n",
              "\n",
              "    [theme=dark] .colab-df-convert:hover {\n",
              "      background-color: #434B5C;\n",
              "      box-shadow: 0px 1px 3px 1px rgba(0, 0, 0, 0.15);\n",
              "      filter: drop-shadow(0px 1px 2px rgba(0, 0, 0, 0.3));\n",
              "      fill: #FFFFFF;\n",
              "    }\n",
              "  </style>\n",
              "\n",
              "    <script>\n",
              "      const buttonEl =\n",
              "        document.querySelector('#df-a8ad7865-5884-4593-a2ad-baefecb56d07 button.colab-df-convert');\n",
              "      buttonEl.style.display =\n",
              "        google.colab.kernel.accessAllowed ? 'block' : 'none';\n",
              "\n",
              "      async function convertToInteractive(key) {\n",
              "        const element = document.querySelector('#df-a8ad7865-5884-4593-a2ad-baefecb56d07');\n",
              "        const dataTable =\n",
              "          await google.colab.kernel.invokeFunction('convertToInteractive',\n",
              "                                                    [key], {});\n",
              "        if (!dataTable) return;\n",
              "\n",
              "        const docLinkHtml = 'Like what you see? Visit the ' +\n",
              "          '<a target=\"_blank\" href=https://colab.research.google.com/notebooks/data_table.ipynb>data table notebook</a>'\n",
              "          + ' to learn more about interactive tables.';\n",
              "        element.innerHTML = '';\n",
              "        dataTable['output_type'] = 'display_data';\n",
              "        await google.colab.output.renderOutput(dataTable, element);\n",
              "        const docLink = document.createElement('div');\n",
              "        docLink.innerHTML = docLinkHtml;\n",
              "        element.appendChild(docLink);\n",
              "      }\n",
              "    </script>\n",
              "  </div>\n",
              "\n",
              "\n",
              "<div id=\"df-5f57b503-fc5c-4f99-a3ca-1a1953d96768\">\n",
              "  <button class=\"colab-df-quickchart\" onclick=\"quickchart('df-5f57b503-fc5c-4f99-a3ca-1a1953d96768')\"\n",
              "            title=\"Suggest charts.\"\n",
              "            style=\"display:none;\">\n",
              "\n",
              "<svg xmlns=\"http://www.w3.org/2000/svg\" height=\"24px\"viewBox=\"0 0 24 24\"\n",
              "     width=\"24px\">\n",
              "    <g>\n",
              "        <path d=\"M19 3H5c-1.1 0-2 .9-2 2v14c0 1.1.9 2 2 2h14c1.1 0 2-.9 2-2V5c0-1.1-.9-2-2-2zM9 17H7v-7h2v7zm4 0h-2V7h2v10zm4 0h-2v-4h2v4z\"/>\n",
              "    </g>\n",
              "</svg>\n",
              "  </button>\n",
              "\n",
              "<style>\n",
              "  .colab-df-quickchart {\n",
              "      --bg-color: #E8F0FE;\n",
              "      --fill-color: #1967D2;\n",
              "      --hover-bg-color: #E2EBFA;\n",
              "      --hover-fill-color: #174EA6;\n",
              "      --disabled-fill-color: #AAA;\n",
              "      --disabled-bg-color: #DDD;\n",
              "  }\n",
              "\n",
              "  [theme=dark] .colab-df-quickchart {\n",
              "      --bg-color: #3B4455;\n",
              "      --fill-color: #D2E3FC;\n",
              "      --hover-bg-color: #434B5C;\n",
              "      --hover-fill-color: #FFFFFF;\n",
              "      --disabled-bg-color: #3B4455;\n",
              "      --disabled-fill-color: #666;\n",
              "  }\n",
              "\n",
              "  .colab-df-quickchart {\n",
              "    background-color: var(--bg-color);\n",
              "    border: none;\n",
              "    border-radius: 50%;\n",
              "    cursor: pointer;\n",
              "    display: none;\n",
              "    fill: var(--fill-color);\n",
              "    height: 32px;\n",
              "    padding: 0;\n",
              "    width: 32px;\n",
              "  }\n",
              "\n",
              "  .colab-df-quickchart:hover {\n",
              "    background-color: var(--hover-bg-color);\n",
              "    box-shadow: 0 1px 2px rgba(60, 64, 67, 0.3), 0 1px 3px 1px rgba(60, 64, 67, 0.15);\n",
              "    fill: var(--button-hover-fill-color);\n",
              "  }\n",
              "\n",
              "  .colab-df-quickchart-complete:disabled,\n",
              "  .colab-df-quickchart-complete:disabled:hover {\n",
              "    background-color: var(--disabled-bg-color);\n",
              "    fill: var(--disabled-fill-color);\n",
              "    box-shadow: none;\n",
              "  }\n",
              "\n",
              "  .colab-df-spinner {\n",
              "    border: 2px solid var(--fill-color);\n",
              "    border-color: transparent;\n",
              "    border-bottom-color: var(--fill-color);\n",
              "    animation:\n",
              "      spin 1s steps(1) infinite;\n",
              "  }\n",
              "\n",
              "  @keyframes spin {\n",
              "    0% {\n",
              "      border-color: transparent;\n",
              "      border-bottom-color: var(--fill-color);\n",
              "      border-left-color: var(--fill-color);\n",
              "    }\n",
              "    20% {\n",
              "      border-color: transparent;\n",
              "      border-left-color: var(--fill-color);\n",
              "      border-top-color: var(--fill-color);\n",
              "    }\n",
              "    30% {\n",
              "      border-color: transparent;\n",
              "      border-left-color: var(--fill-color);\n",
              "      border-top-color: var(--fill-color);\n",
              "      border-right-color: var(--fill-color);\n",
              "    }\n",
              "    40% {\n",
              "      border-color: transparent;\n",
              "      border-right-color: var(--fill-color);\n",
              "      border-top-color: var(--fill-color);\n",
              "    }\n",
              "    60% {\n",
              "      border-color: transparent;\n",
              "      border-right-color: var(--fill-color);\n",
              "    }\n",
              "    80% {\n",
              "      border-color: transparent;\n",
              "      border-right-color: var(--fill-color);\n",
              "      border-bottom-color: var(--fill-color);\n",
              "    }\n",
              "    90% {\n",
              "      border-color: transparent;\n",
              "      border-bottom-color: var(--fill-color);\n",
              "    }\n",
              "  }\n",
              "</style>\n",
              "\n",
              "  <script>\n",
              "    async function quickchart(key) {\n",
              "      const quickchartButtonEl =\n",
              "        document.querySelector('#' + key + ' button');\n",
              "      quickchartButtonEl.disabled = true;  // To prevent multiple clicks.\n",
              "      quickchartButtonEl.classList.add('colab-df-spinner');\n",
              "      try {\n",
              "        const charts = await google.colab.kernel.invokeFunction(\n",
              "            'suggestCharts', [key], {});\n",
              "      } catch (error) {\n",
              "        console.error('Error during call to suggestCharts:', error);\n",
              "      }\n",
              "      quickchartButtonEl.classList.remove('colab-df-spinner');\n",
              "      quickchartButtonEl.classList.add('colab-df-quickchart-complete');\n",
              "    }\n",
              "    (() => {\n",
              "      let quickchartButtonEl =\n",
              "        document.querySelector('#df-5f57b503-fc5c-4f99-a3ca-1a1953d96768 button');\n",
              "      quickchartButtonEl.style.display =\n",
              "        google.colab.kernel.accessAllowed ? 'block' : 'none';\n",
              "    })();\n",
              "  </script>\n",
              "</div>\n",
              "    </div>\n",
              "  </div>\n"
            ]
          },
          "metadata": {},
          "execution_count": 249
        }
      ],
      "source": [
        "reduced_X, explainability = pca(X_new.to_numpy(), 2)\n",
        "reduced_dataset = pd.DataFrame(reduced_X)\n",
        "reduced_dataset['Target'] = Y\n",
        "\n",
        "print(reduced_dataset.shape)\n",
        "reduced_dataset.head()"
      ]
    },
    {
      "cell_type": "code",
      "source": [
        "plot_iris_pca(reduced_dataset, 2)"
      ],
      "metadata": {
        "colab": {
          "base_uri": "https://localhost:8080/",
          "height": 696
        },
        "id": "vWM8YBqEvWcJ",
        "outputId": "2a09d84f-fd86-4e1b-d1cb-bad459afcce8"
      },
      "execution_count": 250,
      "outputs": [
        {
          "output_type": "display_data",
          "data": {
            "text/plain": [
              "<Figure size 1000x800 with 1 Axes>"
            ],
            "image/png": "[encoded data removed]"
          },
          "metadata": {}
        }
      ]
    },
    {
      "cell_type": "code",
      "source": [
        "explainability"
      ],
      "metadata": {
        "colab": {
          "base_uri": "https://localhost:8080/",
          "height": 0
        },
        "id": "aigr94O73MHW",
        "outputId": "c9cfea26-623d-4e32-f464-89730d49d24b"
      },
      "execution_count": 251,
      "outputs": [
        {
          "output_type": "execute_result",
          "data": {
            "text/plain": [
              "{2.930353775589317: '72.77045209380135 %',\n",
              " 0.9274036215173419: '23.03052326768065 %',\n",
              " 0.14834222648163944: '3.683831957627379 %',\n",
              " 0.02074601399559593: '0.5151926808906321 %'}"
            ]
          },
          "metadata": {},
          "execution_count": 251
        }
      ]
    },
    {
      "cell_type": "markdown",
      "source": [
        "conclusions?"
      ],
      "metadata": {
        "id": "HorXNG5zgPV6"
      }
    },
    {
      "cell_type": "markdown",
      "source": [
        "*  **The pricipal components corresponding to eigen values 2.930353775589317 and 0.9274036215173419 is able to explain 72.77% and 23.03% of the data respectively.**\n",
        "\n",
        "*   **Therfore, PCA with one principal component alone is able to account for 72.77% of the data.**\n",
        "\n",
        "\n",
        "*   **Similarly, PCA with two principal components able to account for 95.8% of the data.**\n",
        "\n"
      ],
      "metadata": {
        "id": "GssxrMfXgRmy"
      }
    },
    {
      "cell_type": "markdown",
      "metadata": {
        "id": "_8IQPb2oPFhz"
      },
      "source": [
        "# More?"
      ]
    },
    {
      "cell_type": "markdown",
      "metadata": {
        "id": "vUoFZvJVPFhz"
      },
      "source": [
        "### Go to: https://jakevdp.github.io/PythonDataScienceHandbook/05.09-principal-component-analysis.html"
      ]
    },
    {
      "cell_type": "code",
      "execution_count": 251,
      "metadata": {
        "id": "TXingCA9PFhz"
      },
      "outputs": [],
      "source": []
    }
  ],
  "metadata": {
    "kernelspec": {
      "display_name": "Python 3",
      "language": "python",
      "name": "python3"
    },
    "language_info": {
      "codemirror_mode": {
        "name": "ipython",
        "version": 3
      },
      "file_extension": ".py",
      "mimetype": "text/x-python",
      "name": "python",
      "nbconvert_exporter": "python",
      "pygments_lexer": "ipython3",
      "version": "3.6.12"
    },
    "colab": {
      "provenance": []
    }
  },
  "nbformat": 4,
  "nbformat_minor": 0
}