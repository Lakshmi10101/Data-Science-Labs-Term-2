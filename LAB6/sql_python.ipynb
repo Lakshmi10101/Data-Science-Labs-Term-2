{
  "cells": [
    {
      "cell_type": "markdown",
      "metadata": {
        "id": "bIWCjLvwTCOy"
      },
      "source": [
        "## Exercises: Let's play with Dogs (& SQL)\n",
        "\n",
        "First create a table called parents. It has two columns: 'parent' and 'child'. The first column indicates the parent of the child in the second column. We will use a new form of `CREATE TABLE` expression to produce this table.\n",
        "\n",
        "\tCREATE TABLE parents AS\n",
        "\t  SELECT \"abraham\" AS parent, \"barack\" AS child UNION\n",
        "\t  SELECT \"abraham\", \"clinton\" UNION\n",
        "\t  SELECT \"delano\", \"herbert\" UNION\n",
        "\t  SELECT \"fillmore\", \"abraham\" UNION\n",
        "\t  SELECT \"fillmore\", \"delano\" UNION\n",
        "\t  SELECT \"fillmore\", \"grover\" UNION\n",
        "\t  SELECT \"eisenhower\", \"fillmore\";\n",
        "\t  \n",
        "\n",
        "### Picture of the Dog Family Tree (illustration of parents table)\n",
        "\n",
        "(A = abrham, B = barack, etc.)\n",
        "\n",
        "<center><img src=\"https://raw.githubusercontent.com/afo/data-x-plaksha/master/09a-sql/reources/family_tree.png\" width=\"200\" /></center>\n",
        "\t  \n",
        "## Q1 Simple SELECTS (on the parents table)\n",
        "1. SELECT all records in the table.\n",
        "2. SELECT child and parent, where abraham is the parent.\n",
        "3. SELECT all children that have an 'e' in their name (hint: use LIKE and '%e%').\n",
        "4. SELECT all unique parents (use SELECT DISTINCT) and order them by name, descending order (i.e. fillmore first)\n",
        "5. **Difficult***: SELECT all dogs that are siblings (one-to-one relations). Only show a sibling pair once. To do this you need to select two times from the parents table.\n",
        "\n",
        "## Q2 Joins\n",
        "\n",
        "Create a new table called dogs, which indicates the fur type of every dog. In the image above: long haired dogs = red dashed box, curly haired dogs = black fluffy box, and short haired dogs = grey dotted box. \n",
        "\n",
        "Create the table by running:\n",
        "\t\n",
        "\tCREATE TABLE dogs AS\n",
        "\t  SELECT \"abraham\" AS name, \"long\" AS fur UNION\n",
        "\t  SELECT \"barack\", \"short\" UNION\n",
        "\t  SELECT \"clinton\", \"long\" UNION\n",
        "\t  SELECT \"delano\", \"long\" UNION\n",
        "\t  SELECT \"eisenhower\", \"short\" UNION\n",
        "\t  SELECT \"fillmore\", \"curly\" UNION\n",
        "\t  SELECT \"grover\", \"short\" UNION\n",
        "\t  SELECT \"herbert\", \"curly\";\n",
        "\n",
        "1. COUNT the number of short haired dogs\n",
        "2. JOIN tables parents and dogs and SELECT the parents of curly dogs.\n",
        "2. **Difficult**: JOIN tables parents and dogs, and SELECT the parents and children that have the same fur type. Only show them once.\n",
        "\n",
        "\n",
        "## Q3 Aggregate functions, numerical logic and grouping\n",
        "\n",
        "Create a new table with many different animals. The table includes the animal's kind, number of legs and weight. Create it by running:\n",
        "\n",
        "\tCREATE Table animals AS\n",
        "\t SELECT \"dog\" AS kind, 4 AS legs, 20 AS weight UNION\n",
        "\t SELECT \"cat\", 4, 10 UNION\n",
        "\t SELECT \"ferret\", 4, 10 UNION\n",
        "\t SELECT \"parrot\", 2, 6 UNION\n",
        "\t SELECT \"penguin\", 2, 10 UNION\n",
        "\t SELECT \"t-rex\", 2, 12000;\n",
        "\t\n",
        "1. SELECT the animal with the minimum weight. Display kind and min_weight.\n",
        "2. Use aggregate function AVG to display a table with the average number of legs and the average weight.\n",
        "3. SELECT the animal kind(s) that have more than two legs, but weighs less than 20. Display kind, weight, legs.\n",
        "4. SELECT the average weight for all the animals with 2 legs and the animals with 4 legs (by using GROUP BY).\n",
        "\n",
        ".\n",
        "\n",
        "\n",
        "*These exercises are inspired by the Lectures in CS61A (Fall 2014).*\n"
      ]
    },
    {
      "cell_type": "markdown",
      "metadata": {
        "id": "KXeVm5NNTCO7"
      },
      "source": [
        "## Your Solution Here"
      ]
    },
    {
      "cell_type": "code",
      "execution_count": null,
      "metadata": {
        "vscode": {
          "languageId": "plaintext"
        }
      },
      "outputs": [],
      "source": []
    }
  ],
  "metadata": {
    "anaconda-cloud": {},
    "colab": {
      "name": "SOLUTIONS-sql-python-afo-v4.ipynb",
      "provenance": []
    },
    "kernelspec": {
      "display_name": "Python 3",
      "language": "python",
      "name": "python3"
    },
    "language_info": {
      "codemirror_mode": {
        "name": "ipython",
        "version": 3
      },
      "file_extension": ".py",
      "mimetype": "text/x-python",
      "name": "python",
      "nbconvert_exporter": "python",
      "pygments_lexer": "ipython3",
      "version": "3.6.3"
    }
  },
  "nbformat": 4,
  "nbformat_minor": 0
}
